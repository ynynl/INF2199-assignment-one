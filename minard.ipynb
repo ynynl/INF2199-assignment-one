{
 "cells": [
  {
   "source": [
    "# Assignment One\n",
    "\n",
    "I chose Minard's Russian campaign as my redesign object because I really like the data visualization connected with geographic .  "
   ],
   "cell_type": "markdown",
   "metadata": {}
  },
  {
   "source": [],
   "cell_type": "markdown",
   "metadata": {}
  },
  {
   "cell_type": "code",
   "execution_count": 1,
   "metadata": {},
   "outputs": [],
   "source": [
    "# Import the necessary libraries\n",
    "# You will likely need to install a number of these modules/libraries \n",
    "# (e.g. pip install geopandas or conda install geopandas)\n",
    "import pandas as pd\n",
    "import geopandas as gpd\n",
    "import geoplot as gplt\n",
    "import matplotlib.pyplot as plt\n",
    "import mplleaflet\n",
    "from matplotlib.colors import LinearSegmentedColormap\n",
    "\n",
    "# To ignore jupyter warning about using iframes instead of mplleaflet.display() to display figures in the notebook\n",
    "# also, heads up that most recent version of matplotlib might break your version of mplleaflet\n",
    "# if it does, run pip install matplotlib==3.3.2\n",
    "import warnings\n",
    "warnings.filterwarnings('ignore')"
   ]
  },
  {
   "cell_type": "code",
   "execution_count": 2,
   "metadata": {},
   "outputs": [],
   "source": [
    "# Use geopandas to read in the dataset from geoplot (it's included in the library)\n",
    "napoleon_troop_movements = gpd.read_file(gplt.datasets.get_path('napoleon_troop_movements'))\n"
   ]
  },
  {
   "cell_type": "code",
   "execution_count": 3,
   "metadata": {},
   "outputs": [],
   "source": [
    "df=napoleon_troop_movements"
   ]
  },
  {
   "cell_type": "code",
   "execution_count": 4,
   "metadata": {},
   "outputs": [],
   "source": [
    "df['Coods'] = df.geometry.apply(lambda pts: [(p.x,p.y) for p in pts])\n",
    "df['lon1'] = df.Coods.apply(lambda p: p[0][0])\n",
    "df['lat1'] = df.Coods.apply(lambda p: p[0][1])\n",
    "df['lon2'] = df.Coods.apply(lambda p: p[1][0])\n",
    "df['lat2'] = df.Coods.apply(lambda p: p[1][1])\n",
    "\n",
    "df['lons'] = df.Coods.apply(lambda p: [p[0][0],p[1][0]])\n",
    "df['lats'] = df.Coods.apply(lambda p: [p[0][1],p[1][1]])"
   ]
  },
  {
   "cell_type": "code",
   "execution_count": 5,
   "metadata": {},
   "outputs": [
    {
     "output_type": "execute_result",
     "data": {
      "text/plain": [
       "  id  direction  survivors  group  \\\n",
       "0  1          0     340000      1   \n",
       "1  2          0     340000      1   \n",
       "2  3          0     320000      1   \n",
       "3  4          0     300000      1   \n",
       "4  5          0     280000      1   \n",
       "\n",
       "                                            geometry  \\\n",
       "0  MULTIPOINT (24.50000 55.00000, 24.00000 54.90000)   \n",
       "1  MULTIPOINT (25.50000 54.50000, 24.50000 55.00000)   \n",
       "2  MULTIPOINT (26.00000 54.70000, 25.50000 54.50000)   \n",
       "3  MULTIPOINT (27.00000 54.80000, 26.00000 54.70000)   \n",
       "4  MULTIPOINT (28.00000 54.90000, 27.00000 54.80000)   \n",
       "\n",
       "                          Coods  lon1  lat1  lon2  lat2          lons  \\\n",
       "0  [(24.5, 55.0), (24.0, 54.9)]  24.5  55.0  24.0  54.9  [24.5, 24.0]   \n",
       "1  [(25.5, 54.5), (24.5, 55.0)]  25.5  54.5  24.5  55.0  [25.5, 24.5]   \n",
       "2  [(26.0, 54.7), (25.5, 54.5)]  26.0  54.7  25.5  54.5  [26.0, 25.5]   \n",
       "3  [(27.0, 54.8), (26.0, 54.7)]  27.0  54.8  26.0  54.7  [27.0, 26.0]   \n",
       "4  [(28.0, 54.9), (27.0, 54.8)]  28.0  54.9  27.0  54.8  [28.0, 27.0]   \n",
       "\n",
       "           lats  \n",
       "0  [55.0, 54.9]  \n",
       "1  [54.5, 55.0]  \n",
       "2  [54.7, 54.5]  \n",
       "3  [54.8, 54.7]  \n",
       "4  [54.9, 54.8]  "
      ],
      "text/html": "<div>\n<style scoped>\n    .dataframe tbody tr th:only-of-type {\n        vertical-align: middle;\n    }\n\n    .dataframe tbody tr th {\n        vertical-align: top;\n    }\n\n    .dataframe thead th {\n        text-align: right;\n    }\n</style>\n<table border=\"1\" class=\"dataframe\">\n  <thead>\n    <tr style=\"text-align: right;\">\n      <th></th>\n      <th>id</th>\n      <th>direction</th>\n      <th>survivors</th>\n      <th>group</th>\n      <th>geometry</th>\n      <th>Coods</th>\n      <th>lon1</th>\n      <th>lat1</th>\n      <th>lon2</th>\n      <th>lat2</th>\n      <th>lons</th>\n      <th>lats</th>\n    </tr>\n  </thead>\n  <tbody>\n    <tr>\n      <th>0</th>\n      <td>1</td>\n      <td>0</td>\n      <td>340000</td>\n      <td>1</td>\n      <td>MULTIPOINT (24.50000 55.00000, 24.00000 54.90000)</td>\n      <td>[(24.5, 55.0), (24.0, 54.9)]</td>\n      <td>24.5</td>\n      <td>55.0</td>\n      <td>24.0</td>\n      <td>54.9</td>\n      <td>[24.5, 24.0]</td>\n      <td>[55.0, 54.9]</td>\n    </tr>\n    <tr>\n      <th>1</th>\n      <td>2</td>\n      <td>0</td>\n      <td>340000</td>\n      <td>1</td>\n      <td>MULTIPOINT (25.50000 54.50000, 24.50000 55.00000)</td>\n      <td>[(25.5, 54.5), (24.5, 55.0)]</td>\n      <td>25.5</td>\n      <td>54.5</td>\n      <td>24.5</td>\n      <td>55.0</td>\n      <td>[25.5, 24.5]</td>\n      <td>[54.5, 55.0]</td>\n    </tr>\n    <tr>\n      <th>2</th>\n      <td>3</td>\n      <td>0</td>\n      <td>320000</td>\n      <td>1</td>\n      <td>MULTIPOINT (26.00000 54.70000, 25.50000 54.50000)</td>\n      <td>[(26.0, 54.7), (25.5, 54.5)]</td>\n      <td>26.0</td>\n      <td>54.7</td>\n      <td>25.5</td>\n      <td>54.5</td>\n      <td>[26.0, 25.5]</td>\n      <td>[54.7, 54.5]</td>\n    </tr>\n    <tr>\n      <th>3</th>\n      <td>4</td>\n      <td>0</td>\n      <td>300000</td>\n      <td>1</td>\n      <td>MULTIPOINT (27.00000 54.80000, 26.00000 54.70000)</td>\n      <td>[(27.0, 54.8), (26.0, 54.7)]</td>\n      <td>27.0</td>\n      <td>54.8</td>\n      <td>26.0</td>\n      <td>54.7</td>\n      <td>[27.0, 26.0]</td>\n      <td>[54.8, 54.7]</td>\n    </tr>\n    <tr>\n      <th>4</th>\n      <td>5</td>\n      <td>0</td>\n      <td>280000</td>\n      <td>1</td>\n      <td>MULTIPOINT (28.00000 54.90000, 27.00000 54.80000)</td>\n      <td>[(28.0, 54.9), (27.0, 54.8)]</td>\n      <td>28.0</td>\n      <td>54.9</td>\n      <td>27.0</td>\n      <td>54.8</td>\n      <td>[28.0, 27.0]</td>\n      <td>[54.9, 54.8]</td>\n    </tr>\n  </tbody>\n</table>\n</div>"
     },
     "metadata": {},
     "execution_count": 5
    }
   ],
   "source": [
    "df.head()"
   ]
  },
  {
   "cell_type": "code",
   "execution_count": 6,
   "metadata": {},
   "outputs": [],
   "source": [
    "# Use a custom colour map to store your colour preferences\n",
    "colors = [(215/255, 193/255, 126/255), (37/255, 37/255, 37/255)]\n",
    "cm = LinearSegmentedColormap.from_list('minard', colors)"
   ]
  },
  {
   "cell_type": "code",
   "execution_count": 25,
   "metadata": {},
   "outputs": [
    {
     "output_type": "display_data",
     "data": {
      "application/vnd.plotly.v1+json": {
       "config": {
        "plotlyServerURL": "https://plot.ly"
       },
       "data": [
        {
         "hovertemplate": "survivors=%{marker.size}<br>lat1=%{lat}<br>lon1=%{lon}<br>direction=%{marker.color}<extra></extra>",
         "lat": [
          55,
          54.5,
          54.7,
          54.8,
          54.9,
          55,
          55.1,
          55.2,
          55.3,
          54.8,
          54.9,
          55.5,
          55.4,
          55.5,
          55.8,
          55.7,
          55.7,
          55,
          55,
          55.3,
          55.2,
          54.8,
          54.6,
          54.4,
          54.3,
          54.2,
          54.3,
          54.5,
          54.3,
          54.4,
          54.4,
          54.4,
          54.4,
          54.4,
          55.1,
          55.2,
          54.7,
          55.7,
          55.6,
          55.5,
          55.5,
          54.2,
          54.1,
          54.2,
          55.2,
          55.3,
          55.8,
          55.8,
          54.4,
          54.4
         ],
         "legendgroup": "",
         "lon": [
          24.5,
          25.5,
          26,
          27,
          28,
          28.5,
          29,
          30,
          30.3,
          32,
          33.2,
          34.4,
          35.5,
          36,
          37.6,
          37.7,
          37.5,
          37,
          36.8,
          35.4,
          34.3,
          33.3,
          32,
          30.4,
          29.2,
          28.5,
          28.3,
          27.5,
          26.8,
          26.4,
          25,
          24.4,
          24.2,
          24.1,
          24,
          24.5,
          25.5,
          26.6,
          27.4,
          28.7,
          28.7,
          29.2,
          28.5,
          28.3,
          24,
          24.5,
          24.6,
          24.6,
          24.2,
          24.1
         ],
         "marker": {
          "color": [
           0,
           0,
           0,
           0,
           0,
           0,
           0,
           0,
           0,
           0,
           0,
           0,
           0,
           0,
           0,
           1,
           1,
           1,
           1,
           1,
           1,
           1,
           1,
           1,
           1,
           1,
           1,
           1,
           1,
           1,
           1,
           1,
           1,
           1,
           0,
           0,
           0,
           0,
           0,
           0,
           1,
           1,
           1,
           1,
           0,
           0,
           0,
           1,
           1,
           1
          ],
          "coloraxis": "coloraxis",
          "size": [
           340000,
           340000,
           320000,
           300000,
           280000,
           240000,
           210000,
           180000,
           175000,
           145000,
           140000,
           127100,
           100000,
           100000,
           100000,
           100000,
           98000,
           97000,
           96000,
           87000,
           55000,
           37000,
           24000,
           20000,
           20000,
           20000,
           20000,
           20000,
           12000,
           14000,
           8000,
           4000,
           4000,
           4000,
           60000,
           60000,
           60000,
           40000,
           33000,
           33000,
           33000,
           30000,
           30000,
           28000,
           22000,
           22000,
           6000,
           6000,
           6000,
           6000
          ],
          "sizemode": "area",
          "sizeref": 136
         },
         "mode": "markers",
         "name": "",
         "showlegend": false,
         "subplot": "mapbox",
         "type": "scattermapbox"
        }
       ],
       "layout": {
        "coloraxis": {
         "colorbar": {
          "title": {
           "text": "direction"
          }
         },
         "colorscale": [
          [
           0,
           "rgb(215, 193, 126)"
          ],
          [
           1,
           "rgb(37, 37, 37)"
          ]
         ],
         "showscale": false
        },
        "legend": {
         "itemsizing": "constant",
         "tracegroupgap": 0
        },
        "mapbox": {
         "center": {
          "lat": 55,
          "lon": 31
         },
         "domain": {
          "x": [
           0,
           1
          ],
          "y": [
           0,
           1
          ]
         },
         "style": "carto-positron",
         "zoom": 5
        },
        "margin": {
         "b": 0,
         "l": 0,
         "r": 0,
         "t": 0
        },
        "showlegend": false,
        "template": {
         "data": {
          "bar": [
           {
            "error_x": {
             "color": "#2a3f5f"
            },
            "error_y": {
             "color": "#2a3f5f"
            },
            "marker": {
             "line": {
              "color": "#E5ECF6",
              "width": 0.5
             }
            },
            "type": "bar"
           }
          ],
          "barpolar": [
           {
            "marker": {
             "line": {
              "color": "#E5ECF6",
              "width": 0.5
             }
            },
            "type": "barpolar"
           }
          ],
          "carpet": [
           {
            "aaxis": {
             "endlinecolor": "#2a3f5f",
             "gridcolor": "white",
             "linecolor": "white",
             "minorgridcolor": "white",
             "startlinecolor": "#2a3f5f"
            },
            "baxis": {
             "endlinecolor": "#2a3f5f",
             "gridcolor": "white",
             "linecolor": "white",
             "minorgridcolor": "white",
             "startlinecolor": "#2a3f5f"
            },
            "type": "carpet"
           }
          ],
          "choropleth": [
           {
            "colorbar": {
             "outlinewidth": 0,
             "ticks": ""
            },
            "type": "choropleth"
           }
          ],
          "contour": [
           {
            "colorbar": {
             "outlinewidth": 0,
             "ticks": ""
            },
            "colorscale": [
             [
              0,
              "#0d0887"
             ],
             [
              0.1111111111111111,
              "#46039f"
             ],
             [
              0.2222222222222222,
              "#7201a8"
             ],
             [
              0.3333333333333333,
              "#9c179e"
             ],
             [
              0.4444444444444444,
              "#bd3786"
             ],
             [
              0.5555555555555556,
              "#d8576b"
             ],
             [
              0.6666666666666666,
              "#ed7953"
             ],
             [
              0.7777777777777778,
              "#fb9f3a"
             ],
             [
              0.8888888888888888,
              "#fdca26"
             ],
             [
              1,
              "#f0f921"
             ]
            ],
            "type": "contour"
           }
          ],
          "contourcarpet": [
           {
            "colorbar": {
             "outlinewidth": 0,
             "ticks": ""
            },
            "type": "contourcarpet"
           }
          ],
          "heatmap": [
           {
            "colorbar": {
             "outlinewidth": 0,
             "ticks": ""
            },
            "colorscale": [
             [
              0,
              "#0d0887"
             ],
             [
              0.1111111111111111,
              "#46039f"
             ],
             [
              0.2222222222222222,
              "#7201a8"
             ],
             [
              0.3333333333333333,
              "#9c179e"
             ],
             [
              0.4444444444444444,
              "#bd3786"
             ],
             [
              0.5555555555555556,
              "#d8576b"
             ],
             [
              0.6666666666666666,
              "#ed7953"
             ],
             [
              0.7777777777777778,
              "#fb9f3a"
             ],
             [
              0.8888888888888888,
              "#fdca26"
             ],
             [
              1,
              "#f0f921"
             ]
            ],
            "type": "heatmap"
           }
          ],
          "heatmapgl": [
           {
            "colorbar": {
             "outlinewidth": 0,
             "ticks": ""
            },
            "colorscale": [
             [
              0,
              "#0d0887"
             ],
             [
              0.1111111111111111,
              "#46039f"
             ],
             [
              0.2222222222222222,
              "#7201a8"
             ],
             [
              0.3333333333333333,
              "#9c179e"
             ],
             [
              0.4444444444444444,
              "#bd3786"
             ],
             [
              0.5555555555555556,
              "#d8576b"
             ],
             [
              0.6666666666666666,
              "#ed7953"
             ],
             [
              0.7777777777777778,
              "#fb9f3a"
             ],
             [
              0.8888888888888888,
              "#fdca26"
             ],
             [
              1,
              "#f0f921"
             ]
            ],
            "type": "heatmapgl"
           }
          ],
          "histogram": [
           {
            "marker": {
             "colorbar": {
              "outlinewidth": 0,
              "ticks": ""
             }
            },
            "type": "histogram"
           }
          ],
          "histogram2d": [
           {
            "colorbar": {
             "outlinewidth": 0,
             "ticks": ""
            },
            "colorscale": [
             [
              0,
              "#0d0887"
             ],
             [
              0.1111111111111111,
              "#46039f"
             ],
             [
              0.2222222222222222,
              "#7201a8"
             ],
             [
              0.3333333333333333,
              "#9c179e"
             ],
             [
              0.4444444444444444,
              "#bd3786"
             ],
             [
              0.5555555555555556,
              "#d8576b"
             ],
             [
              0.6666666666666666,
              "#ed7953"
             ],
             [
              0.7777777777777778,
              "#fb9f3a"
             ],
             [
              0.8888888888888888,
              "#fdca26"
             ],
             [
              1,
              "#f0f921"
             ]
            ],
            "type": "histogram2d"
           }
          ],
          "histogram2dcontour": [
           {
            "colorbar": {
             "outlinewidth": 0,
             "ticks": ""
            },
            "colorscale": [
             [
              0,
              "#0d0887"
             ],
             [
              0.1111111111111111,
              "#46039f"
             ],
             [
              0.2222222222222222,
              "#7201a8"
             ],
             [
              0.3333333333333333,
              "#9c179e"
             ],
             [
              0.4444444444444444,
              "#bd3786"
             ],
             [
              0.5555555555555556,
              "#d8576b"
             ],
             [
              0.6666666666666666,
              "#ed7953"
             ],
             [
              0.7777777777777778,
              "#fb9f3a"
             ],
             [
              0.8888888888888888,
              "#fdca26"
             ],
             [
              1,
              "#f0f921"
             ]
            ],
            "type": "histogram2dcontour"
           }
          ],
          "mesh3d": [
           {
            "colorbar": {
             "outlinewidth": 0,
             "ticks": ""
            },
            "type": "mesh3d"
           }
          ],
          "parcoords": [
           {
            "line": {
             "colorbar": {
              "outlinewidth": 0,
              "ticks": ""
             }
            },
            "type": "parcoords"
           }
          ],
          "pie": [
           {
            "automargin": true,
            "type": "pie"
           }
          ],
          "scatter": [
           {
            "marker": {
             "colorbar": {
              "outlinewidth": 0,
              "ticks": ""
             }
            },
            "type": "scatter"
           }
          ],
          "scatter3d": [
           {
            "line": {
             "colorbar": {
              "outlinewidth": 0,
              "ticks": ""
             }
            },
            "marker": {
             "colorbar": {
              "outlinewidth": 0,
              "ticks": ""
             }
            },
            "type": "scatter3d"
           }
          ],
          "scattercarpet": [
           {
            "marker": {
             "colorbar": {
              "outlinewidth": 0,
              "ticks": ""
             }
            },
            "type": "scattercarpet"
           }
          ],
          "scattergeo": [
           {
            "marker": {
             "colorbar": {
              "outlinewidth": 0,
              "ticks": ""
             }
            },
            "type": "scattergeo"
           }
          ],
          "scattergl": [
           {
            "marker": {
             "colorbar": {
              "outlinewidth": 0,
              "ticks": ""
             }
            },
            "type": "scattergl"
           }
          ],
          "scattermapbox": [
           {
            "marker": {
             "colorbar": {
              "outlinewidth": 0,
              "ticks": ""
             }
            },
            "type": "scattermapbox"
           }
          ],
          "scatterpolar": [
           {
            "marker": {
             "colorbar": {
              "outlinewidth": 0,
              "ticks": ""
             }
            },
            "type": "scatterpolar"
           }
          ],
          "scatterpolargl": [
           {
            "marker": {
             "colorbar": {
              "outlinewidth": 0,
              "ticks": ""
             }
            },
            "type": "scatterpolargl"
           }
          ],
          "scatterternary": [
           {
            "marker": {
             "colorbar": {
              "outlinewidth": 0,
              "ticks": ""
             }
            },
            "type": "scatterternary"
           }
          ],
          "surface": [
           {
            "colorbar": {
             "outlinewidth": 0,
             "ticks": ""
            },
            "colorscale": [
             [
              0,
              "#0d0887"
             ],
             [
              0.1111111111111111,
              "#46039f"
             ],
             [
              0.2222222222222222,
              "#7201a8"
             ],
             [
              0.3333333333333333,
              "#9c179e"
             ],
             [
              0.4444444444444444,
              "#bd3786"
             ],
             [
              0.5555555555555556,
              "#d8576b"
             ],
             [
              0.6666666666666666,
              "#ed7953"
             ],
             [
              0.7777777777777778,
              "#fb9f3a"
             ],
             [
              0.8888888888888888,
              "#fdca26"
             ],
             [
              1,
              "#f0f921"
             ]
            ],
            "type": "surface"
           }
          ],
          "table": [
           {
            "cells": {
             "fill": {
              "color": "#EBF0F8"
             },
             "line": {
              "color": "white"
             }
            },
            "header": {
             "fill": {
              "color": "#C8D4E3"
             },
             "line": {
              "color": "white"
             }
            },
            "type": "table"
           }
          ]
         },
         "layout": {
          "annotationdefaults": {
           "arrowcolor": "#2a3f5f",
           "arrowhead": 0,
           "arrowwidth": 1
          },
          "autotypenumbers": "strict",
          "coloraxis": {
           "colorbar": {
            "outlinewidth": 0,
            "ticks": ""
           }
          },
          "colorscale": {
           "diverging": [
            [
             0,
             "#8e0152"
            ],
            [
             0.1,
             "#c51b7d"
            ],
            [
             0.2,
             "#de77ae"
            ],
            [
             0.3,
             "#f1b6da"
            ],
            [
             0.4,
             "#fde0ef"
            ],
            [
             0.5,
             "#f7f7f7"
            ],
            [
             0.6,
             "#e6f5d0"
            ],
            [
             0.7,
             "#b8e186"
            ],
            [
             0.8,
             "#7fbc41"
            ],
            [
             0.9,
             "#4d9221"
            ],
            [
             1,
             "#276419"
            ]
           ],
           "sequential": [
            [
             0,
             "#0d0887"
            ],
            [
             0.1111111111111111,
             "#46039f"
            ],
            [
             0.2222222222222222,
             "#7201a8"
            ],
            [
             0.3333333333333333,
             "#9c179e"
            ],
            [
             0.4444444444444444,
             "#bd3786"
            ],
            [
             0.5555555555555556,
             "#d8576b"
            ],
            [
             0.6666666666666666,
             "#ed7953"
            ],
            [
             0.7777777777777778,
             "#fb9f3a"
            ],
            [
             0.8888888888888888,
             "#fdca26"
            ],
            [
             1,
             "#f0f921"
            ]
           ],
           "sequentialminus": [
            [
             0,
             "#0d0887"
            ],
            [
             0.1111111111111111,
             "#46039f"
            ],
            [
             0.2222222222222222,
             "#7201a8"
            ],
            [
             0.3333333333333333,
             "#9c179e"
            ],
            [
             0.4444444444444444,
             "#bd3786"
            ],
            [
             0.5555555555555556,
             "#d8576b"
            ],
            [
             0.6666666666666666,
             "#ed7953"
            ],
            [
             0.7777777777777778,
             "#fb9f3a"
            ],
            [
             0.8888888888888888,
             "#fdca26"
            ],
            [
             1,
             "#f0f921"
            ]
           ]
          },
          "colorway": [
           "#636efa",
           "#EF553B",
           "#00cc96",
           "#ab63fa",
           "#FFA15A",
           "#19d3f3",
           "#FF6692",
           "#B6E880",
           "#FF97FF",
           "#FECB52"
          ],
          "font": {
           "color": "#2a3f5f"
          },
          "geo": {
           "bgcolor": "white",
           "lakecolor": "white",
           "landcolor": "#E5ECF6",
           "showlakes": true,
           "showland": true,
           "subunitcolor": "white"
          },
          "hoverlabel": {
           "align": "left"
          },
          "hovermode": "closest",
          "mapbox": {
           "style": "light"
          },
          "paper_bgcolor": "white",
          "plot_bgcolor": "#E5ECF6",
          "polar": {
           "angularaxis": {
            "gridcolor": "white",
            "linecolor": "white",
            "ticks": ""
           },
           "bgcolor": "#E5ECF6",
           "radialaxis": {
            "gridcolor": "white",
            "linecolor": "white",
            "ticks": ""
           }
          },
          "scene": {
           "xaxis": {
            "backgroundcolor": "#E5ECF6",
            "gridcolor": "white",
            "gridwidth": 2,
            "linecolor": "white",
            "showbackground": true,
            "ticks": "",
            "zerolinecolor": "white"
           },
           "yaxis": {
            "backgroundcolor": "#E5ECF6",
            "gridcolor": "white",
            "gridwidth": 2,
            "linecolor": "white",
            "showbackground": true,
            "ticks": "",
            "zerolinecolor": "white"
           },
           "zaxis": {
            "backgroundcolor": "#E5ECF6",
            "gridcolor": "white",
            "gridwidth": 2,
            "linecolor": "white",
            "showbackground": true,
            "ticks": "",
            "zerolinecolor": "white"
           }
          },
          "shapedefaults": {
           "line": {
            "color": "#2a3f5f"
           }
          },
          "ternary": {
           "aaxis": {
            "gridcolor": "white",
            "linecolor": "white",
            "ticks": ""
           },
           "baxis": {
            "gridcolor": "white",
            "linecolor": "white",
            "ticks": ""
           },
           "bgcolor": "#E5ECF6",
           "caxis": {
            "gridcolor": "white",
            "linecolor": "white",
            "ticks": ""
           }
          },
          "title": {
           "x": 0.05
          },
          "xaxis": {
           "automargin": true,
           "gridcolor": "white",
           "linecolor": "white",
           "ticks": "",
           "title": {
            "standoff": 15
           },
           "zerolinecolor": "white",
           "zerolinewidth": 2
          },
          "yaxis": {
           "automargin": true,
           "gridcolor": "white",
           "linecolor": "white",
           "ticks": "",
           "title": {
            "standoff": 15
           },
           "zerolinecolor": "white",
           "zerolinewidth": 2
          }
         }
        }
       }
      },
      "text/html": "<div>                            <div id=\"e409c1e6-e6ee-488c-9576-eb2f6bee15b4\" class=\"plotly-graph-div\" style=\"height:525px; width:100%;\"></div>            <script type=\"text/javascript\">                require([\"plotly\"], function(Plotly) {                    window.PLOTLYENV=window.PLOTLYENV || {};                                    if (document.getElementById(\"e409c1e6-e6ee-488c-9576-eb2f6bee15b4\")) {                    Plotly.newPlot(                        \"e409c1e6-e6ee-488c-9576-eb2f6bee15b4\",                        [{\"hovertemplate\": \"survivors=%{marker.size}<br>lat1=%{lat}<br>lon1=%{lon}<br>direction=%{marker.color}<extra></extra>\", \"lat\": [55.0, 54.5, 54.7, 54.8, 54.9, 55.0, 55.1, 55.2, 55.3, 54.8, 54.9, 55.5, 55.4, 55.5, 55.8, 55.7, 55.7, 55.0, 55.0, 55.3, 55.2, 54.8, 54.6, 54.4, 54.3, 54.2, 54.3, 54.5, 54.3, 54.4, 54.4, 54.4, 54.4, 54.4, 55.1, 55.2, 54.7, 55.7, 55.6, 55.5, 55.5, 54.2, 54.1, 54.2, 55.2, 55.3, 55.8, 55.8, 54.4, 54.4], \"legendgroup\": \"\", \"lon\": [24.5, 25.5, 26.0, 27.0, 28.0, 28.5, 29.0, 30.0, 30.3, 32.0, 33.2, 34.4, 35.5, 36.0, 37.6, 37.7, 37.5, 37.0, 36.8, 35.4, 34.3, 33.3, 32.0, 30.4, 29.2, 28.5, 28.3, 27.5, 26.8, 26.4, 25.0, 24.4, 24.2, 24.1, 24.0, 24.5, 25.5, 26.6, 27.4, 28.7, 28.7, 29.2, 28.5, 28.3, 24.0, 24.5, 24.6, 24.6, 24.2, 24.1], \"marker\": {\"color\": [0, 0, 0, 0, 0, 0, 0, 0, 0, 0, 0, 0, 0, 0, 0, 1, 1, 1, 1, 1, 1, 1, 1, 1, 1, 1, 1, 1, 1, 1, 1, 1, 1, 1, 0, 0, 0, 0, 0, 0, 1, 1, 1, 1, 0, 0, 0, 1, 1, 1], \"coloraxis\": \"coloraxis\", \"size\": [340000, 340000, 320000, 300000, 280000, 240000, 210000, 180000, 175000, 145000, 140000, 127100, 100000, 100000, 100000, 100000, 98000, 97000, 96000, 87000, 55000, 37000, 24000, 20000, 20000, 20000, 20000, 20000, 12000, 14000, 8000, 4000, 4000, 4000, 60000, 60000, 60000, 40000, 33000, 33000, 33000, 30000, 30000, 28000, 22000, 22000, 6000, 6000, 6000, 6000], \"sizemode\": \"area\", \"sizeref\": 136.0}, \"mode\": \"markers\", \"name\": \"\", \"showlegend\": false, \"subplot\": \"mapbox\", \"type\": \"scattermapbox\"}],                        {\"coloraxis\": {\"colorbar\": {\"title\": {\"text\": \"direction\"}}, \"colorscale\": [[0, \"rgb(215, 193, 126)\"], [1, \"rgb(37, 37, 37)\"]], \"showscale\": false}, \"legend\": {\"itemsizing\": \"constant\", \"tracegroupgap\": 0}, \"mapbox\": {\"center\": {\"lat\": 55, \"lon\": 31}, \"domain\": {\"x\": [0.0, 1.0], \"y\": [0.0, 1.0]}, \"style\": \"carto-positron\", \"zoom\": 5}, \"margin\": {\"b\": 0, \"l\": 0, \"r\": 0, \"t\": 0}, \"showlegend\": false, \"template\": {\"data\": {\"bar\": [{\"error_x\": {\"color\": \"#2a3f5f\"}, \"error_y\": {\"color\": \"#2a3f5f\"}, \"marker\": {\"line\": {\"color\": \"#E5ECF6\", \"width\": 0.5}}, \"type\": \"bar\"}], \"barpolar\": [{\"marker\": {\"line\": {\"color\": \"#E5ECF6\", \"width\": 0.5}}, \"type\": \"barpolar\"}], \"carpet\": [{\"aaxis\": {\"endlinecolor\": \"#2a3f5f\", \"gridcolor\": \"white\", \"linecolor\": \"white\", \"minorgridcolor\": \"white\", \"startlinecolor\": \"#2a3f5f\"}, \"baxis\": {\"endlinecolor\": \"#2a3f5f\", \"gridcolor\": \"white\", \"linecolor\": \"white\", \"minorgridcolor\": \"white\", \"startlinecolor\": \"#2a3f5f\"}, \"type\": \"carpet\"}], \"choropleth\": [{\"colorbar\": {\"outlinewidth\": 0, \"ticks\": \"\"}, \"type\": \"choropleth\"}], \"contour\": [{\"colorbar\": {\"outlinewidth\": 0, \"ticks\": \"\"}, \"colorscale\": [[0.0, \"#0d0887\"], [0.1111111111111111, \"#46039f\"], [0.2222222222222222, \"#7201a8\"], [0.3333333333333333, \"#9c179e\"], [0.4444444444444444, \"#bd3786\"], [0.5555555555555556, \"#d8576b\"], [0.6666666666666666, \"#ed7953\"], [0.7777777777777778, \"#fb9f3a\"], [0.8888888888888888, \"#fdca26\"], [1.0, \"#f0f921\"]], \"type\": \"contour\"}], \"contourcarpet\": [{\"colorbar\": {\"outlinewidth\": 0, \"ticks\": \"\"}, \"type\": \"contourcarpet\"}], \"heatmap\": [{\"colorbar\": {\"outlinewidth\": 0, \"ticks\": \"\"}, \"colorscale\": [[0.0, \"#0d0887\"], [0.1111111111111111, \"#46039f\"], [0.2222222222222222, \"#7201a8\"], [0.3333333333333333, \"#9c179e\"], [0.4444444444444444, \"#bd3786\"], [0.5555555555555556, \"#d8576b\"], [0.6666666666666666, \"#ed7953\"], [0.7777777777777778, \"#fb9f3a\"], [0.8888888888888888, \"#fdca26\"], [1.0, \"#f0f921\"]], \"type\": \"heatmap\"}], \"heatmapgl\": [{\"colorbar\": {\"outlinewidth\": 0, \"ticks\": \"\"}, \"colorscale\": [[0.0, \"#0d0887\"], [0.1111111111111111, \"#46039f\"], [0.2222222222222222, \"#7201a8\"], [0.3333333333333333, \"#9c179e\"], [0.4444444444444444, \"#bd3786\"], [0.5555555555555556, \"#d8576b\"], [0.6666666666666666, \"#ed7953\"], [0.7777777777777778, \"#fb9f3a\"], [0.8888888888888888, \"#fdca26\"], [1.0, \"#f0f921\"]], \"type\": \"heatmapgl\"}], \"histogram\": [{\"marker\": {\"colorbar\": {\"outlinewidth\": 0, \"ticks\": \"\"}}, \"type\": \"histogram\"}], \"histogram2d\": [{\"colorbar\": {\"outlinewidth\": 0, \"ticks\": \"\"}, \"colorscale\": [[0.0, \"#0d0887\"], [0.1111111111111111, \"#46039f\"], [0.2222222222222222, \"#7201a8\"], [0.3333333333333333, \"#9c179e\"], [0.4444444444444444, \"#bd3786\"], [0.5555555555555556, \"#d8576b\"], [0.6666666666666666, \"#ed7953\"], [0.7777777777777778, \"#fb9f3a\"], [0.8888888888888888, \"#fdca26\"], [1.0, \"#f0f921\"]], \"type\": \"histogram2d\"}], \"histogram2dcontour\": [{\"colorbar\": {\"outlinewidth\": 0, \"ticks\": \"\"}, \"colorscale\": [[0.0, \"#0d0887\"], [0.1111111111111111, \"#46039f\"], [0.2222222222222222, \"#7201a8\"], [0.3333333333333333, \"#9c179e\"], [0.4444444444444444, \"#bd3786\"], [0.5555555555555556, \"#d8576b\"], [0.6666666666666666, \"#ed7953\"], [0.7777777777777778, \"#fb9f3a\"], [0.8888888888888888, \"#fdca26\"], [1.0, \"#f0f921\"]], \"type\": \"histogram2dcontour\"}], \"mesh3d\": [{\"colorbar\": {\"outlinewidth\": 0, \"ticks\": \"\"}, \"type\": \"mesh3d\"}], \"parcoords\": [{\"line\": {\"colorbar\": {\"outlinewidth\": 0, \"ticks\": \"\"}}, \"type\": \"parcoords\"}], \"pie\": [{\"automargin\": true, \"type\": \"pie\"}], \"scatter\": [{\"marker\": {\"colorbar\": {\"outlinewidth\": 0, \"ticks\": \"\"}}, \"type\": \"scatter\"}], \"scatter3d\": [{\"line\": {\"colorbar\": {\"outlinewidth\": 0, \"ticks\": \"\"}}, \"marker\": {\"colorbar\": {\"outlinewidth\": 0, \"ticks\": \"\"}}, \"type\": \"scatter3d\"}], \"scattercarpet\": [{\"marker\": {\"colorbar\": {\"outlinewidth\": 0, \"ticks\": \"\"}}, \"type\": \"scattercarpet\"}], \"scattergeo\": [{\"marker\": {\"colorbar\": {\"outlinewidth\": 0, \"ticks\": \"\"}}, \"type\": \"scattergeo\"}], \"scattergl\": [{\"marker\": {\"colorbar\": {\"outlinewidth\": 0, \"ticks\": \"\"}}, \"type\": \"scattergl\"}], \"scattermapbox\": [{\"marker\": {\"colorbar\": {\"outlinewidth\": 0, \"ticks\": \"\"}}, \"type\": \"scattermapbox\"}], \"scatterpolar\": [{\"marker\": {\"colorbar\": {\"outlinewidth\": 0, \"ticks\": \"\"}}, \"type\": \"scatterpolar\"}], \"scatterpolargl\": [{\"marker\": {\"colorbar\": {\"outlinewidth\": 0, \"ticks\": \"\"}}, \"type\": \"scatterpolargl\"}], \"scatterternary\": [{\"marker\": {\"colorbar\": {\"outlinewidth\": 0, \"ticks\": \"\"}}, \"type\": \"scatterternary\"}], \"surface\": [{\"colorbar\": {\"outlinewidth\": 0, \"ticks\": \"\"}, \"colorscale\": [[0.0, \"#0d0887\"], [0.1111111111111111, \"#46039f\"], [0.2222222222222222, \"#7201a8\"], [0.3333333333333333, \"#9c179e\"], [0.4444444444444444, \"#bd3786\"], [0.5555555555555556, \"#d8576b\"], [0.6666666666666666, \"#ed7953\"], [0.7777777777777778, \"#fb9f3a\"], [0.8888888888888888, \"#fdca26\"], [1.0, \"#f0f921\"]], \"type\": \"surface\"}], \"table\": [{\"cells\": {\"fill\": {\"color\": \"#EBF0F8\"}, \"line\": {\"color\": \"white\"}}, \"header\": {\"fill\": {\"color\": \"#C8D4E3\"}, \"line\": {\"color\": \"white\"}}, \"type\": \"table\"}]}, \"layout\": {\"annotationdefaults\": {\"arrowcolor\": \"#2a3f5f\", \"arrowhead\": 0, \"arrowwidth\": 1}, \"autotypenumbers\": \"strict\", \"coloraxis\": {\"colorbar\": {\"outlinewidth\": 0, \"ticks\": \"\"}}, \"colorscale\": {\"diverging\": [[0, \"#8e0152\"], [0.1, \"#c51b7d\"], [0.2, \"#de77ae\"], [0.3, \"#f1b6da\"], [0.4, \"#fde0ef\"], [0.5, \"#f7f7f7\"], [0.6, \"#e6f5d0\"], [0.7, \"#b8e186\"], [0.8, \"#7fbc41\"], [0.9, \"#4d9221\"], [1, \"#276419\"]], \"sequential\": [[0.0, \"#0d0887\"], [0.1111111111111111, \"#46039f\"], [0.2222222222222222, \"#7201a8\"], [0.3333333333333333, \"#9c179e\"], [0.4444444444444444, \"#bd3786\"], [0.5555555555555556, \"#d8576b\"], [0.6666666666666666, \"#ed7953\"], [0.7777777777777778, \"#fb9f3a\"], [0.8888888888888888, \"#fdca26\"], [1.0, \"#f0f921\"]], \"sequentialminus\": [[0.0, \"#0d0887\"], [0.1111111111111111, \"#46039f\"], [0.2222222222222222, \"#7201a8\"], [0.3333333333333333, \"#9c179e\"], [0.4444444444444444, \"#bd3786\"], [0.5555555555555556, \"#d8576b\"], [0.6666666666666666, \"#ed7953\"], [0.7777777777777778, \"#fb9f3a\"], [0.8888888888888888, \"#fdca26\"], [1.0, \"#f0f921\"]]}, \"colorway\": [\"#636efa\", \"#EF553B\", \"#00cc96\", \"#ab63fa\", \"#FFA15A\", \"#19d3f3\", \"#FF6692\", \"#B6E880\", \"#FF97FF\", \"#FECB52\"], \"font\": {\"color\": \"#2a3f5f\"}, \"geo\": {\"bgcolor\": \"white\", \"lakecolor\": \"white\", \"landcolor\": \"#E5ECF6\", \"showlakes\": true, \"showland\": true, \"subunitcolor\": \"white\"}, \"hoverlabel\": {\"align\": \"left\"}, \"hovermode\": \"closest\", \"mapbox\": {\"style\": \"light\"}, \"paper_bgcolor\": \"white\", \"plot_bgcolor\": \"#E5ECF6\", \"polar\": {\"angularaxis\": {\"gridcolor\": \"white\", \"linecolor\": \"white\", \"ticks\": \"\"}, \"bgcolor\": \"#E5ECF6\", \"radialaxis\": {\"gridcolor\": \"white\", \"linecolor\": \"white\", \"ticks\": \"\"}}, \"scene\": {\"xaxis\": {\"backgroundcolor\": \"#E5ECF6\", \"gridcolor\": \"white\", \"gridwidth\": 2, \"linecolor\": \"white\", \"showbackground\": true, \"ticks\": \"\", \"zerolinecolor\": \"white\"}, \"yaxis\": {\"backgroundcolor\": \"#E5ECF6\", \"gridcolor\": \"white\", \"gridwidth\": 2, \"linecolor\": \"white\", \"showbackground\": true, \"ticks\": \"\", \"zerolinecolor\": \"white\"}, \"zaxis\": {\"backgroundcolor\": \"#E5ECF6\", \"gridcolor\": \"white\", \"gridwidth\": 2, \"linecolor\": \"white\", \"showbackground\": true, \"ticks\": \"\", \"zerolinecolor\": \"white\"}}, \"shapedefaults\": {\"line\": {\"color\": \"#2a3f5f\"}}, \"ternary\": {\"aaxis\": {\"gridcolor\": \"white\", \"linecolor\": \"white\", \"ticks\": \"\"}, \"baxis\": {\"gridcolor\": \"white\", \"linecolor\": \"white\", \"ticks\": \"\"}, \"bgcolor\": \"#E5ECF6\", \"caxis\": {\"gridcolor\": \"white\", \"linecolor\": \"white\", \"ticks\": \"\"}}, \"title\": {\"x\": 0.05}, \"xaxis\": {\"automargin\": true, \"gridcolor\": \"white\", \"linecolor\": \"white\", \"ticks\": \"\", \"title\": {\"standoff\": 15}, \"zerolinecolor\": \"white\", \"zerolinewidth\": 2}, \"yaxis\": {\"automargin\": true, \"gridcolor\": \"white\", \"linecolor\": \"white\", \"ticks\": \"\", \"title\": {\"standoff\": 15}, \"zerolinecolor\": \"white\", \"zerolinewidth\": 2}}}},                        {\"responsive\": true}                    ).then(function(){\n                            \nvar gd = document.getElementById('e409c1e6-e6ee-488c-9576-eb2f6bee15b4');\nvar x = new MutationObserver(function (mutations, observer) {{\n        var display = window.getComputedStyle(gd).display;\n        if (!display || display === 'none') {{\n            console.log([gd, 'removed!']);\n            Plotly.purge(gd);\n            observer.disconnect();\n        }}\n}});\n\n// Listen for the removal of the full notebook cells\nvar notebookContainer = gd.closest('#notebook-container');\nif (notebookContainer) {{\n    x.observe(notebookContainer, {childList: true});\n}}\n\n// Listen for the clearing of the current output cell\nvar outputEl = gd.closest('.output');\nif (outputEl) {{\n    x.observe(outputEl, {childList: true});\n}}\n\n                        })                };                });            </script>        </div>"
     },
     "metadata": {}
    }
   ],
   "source": [
    "import plotly.express as px\n",
    "fig = px.scatter_mapbox(df, \n",
    "                        lat='lat1',\n",
    "                        lon='lon1', \n",
    "                        color=\"direction\",\n",
    "                        size=\"survivors\",\n",
    "                        size_max=50,\n",
    "                        color_continuous_scale=[[0,'rgb(215, 193, 126)'], [1,'rgb(37, 37, 37)']],\n",
    "                        zoom=5,\n",
    "                        center={'lat':55,'lon':31}\n",
    "                        )\n",
    "fig2=px.line_mapbox(    df,\n",
    "                        lat='lat1',\n",
    "                        lon='lon1', \n",
    "                        color_discrete_sequence =['darkgrey'],\n",
    "\n",
    ")\n",
    "\n",
    "fig.update_layout(mapbox_style=\"carto-positron\")\n",
    "fig.update_layout(margin={'r':0,'t':0,'l':0,'b':0})\n",
    "fig.update_layout(showlegend=False)\n",
    "fig.update(layout_coloraxis_showscale=False)\n",
    "# fig.show()"
   ]
  },
  {
   "cell_type": "code",
   "execution_count": 24,
   "metadata": {},
   "outputs": [
    {
     "output_type": "display_data",
     "data": {
      "application/vnd.plotly.v1+json": {
       "config": {
        "plotlyServerURL": "https://plot.ly"
       },
       "data": [
        {
         "hovertemplate": "survivors=%{marker.color}<br>lat1=%{lat}<br>lon1=%{lon}<extra></extra>",
         "lat": [
          55,
          54.5,
          54.7,
          54.8,
          54.9,
          55,
          55.1,
          55.2,
          55.3,
          54.8,
          54.9,
          55.5,
          55.4,
          55.5,
          55.8,
          55.7,
          55.7,
          55,
          55,
          55.3,
          55.2,
          54.8,
          54.6,
          54.4,
          54.3,
          54.2,
          54.3,
          54.5,
          54.3,
          54.4,
          54.4,
          54.4,
          54.4,
          54.4,
          55.1,
          55.2,
          54.7,
          55.7,
          55.6,
          55.5,
          55.5,
          54.2,
          54.1,
          54.2,
          55.2,
          55.3,
          55.8,
          55.8,
          54.4,
          54.4
         ],
         "legendgroup": "",
         "lon": [
          24.5,
          25.5,
          26,
          27,
          28,
          28.5,
          29,
          30,
          30.3,
          32,
          33.2,
          34.4,
          35.5,
          36,
          37.6,
          37.7,
          37.5,
          37,
          36.8,
          35.4,
          34.3,
          33.3,
          32,
          30.4,
          29.2,
          28.5,
          28.3,
          27.5,
          26.8,
          26.4,
          25,
          24.4,
          24.2,
          24.1,
          24,
          24.5,
          25.5,
          26.6,
          27.4,
          28.7,
          28.7,
          29.2,
          28.5,
          28.3,
          24,
          24.5,
          24.6,
          24.6,
          24.2,
          24.1
         ],
         "marker": {
          "color": [
           340000,
           340000,
           320000,
           300000,
           280000,
           240000,
           210000,
           180000,
           175000,
           145000,
           140000,
           127100,
           100000,
           100000,
           100000,
           100000,
           98000,
           97000,
           96000,
           87000,
           55000,
           37000,
           24000,
           20000,
           20000,
           20000,
           20000,
           20000,
           12000,
           14000,
           8000,
           4000,
           4000,
           4000,
           60000,
           60000,
           60000,
           40000,
           33000,
           33000,
           33000,
           30000,
           30000,
           28000,
           22000,
           22000,
           6000,
           6000,
           6000,
           6000
          ],
          "coloraxis": "coloraxis",
          "size": [
           340000,
           340000,
           320000,
           300000,
           280000,
           240000,
           210000,
           180000,
           175000,
           145000,
           140000,
           127100,
           100000,
           100000,
           100000,
           100000,
           98000,
           97000,
           96000,
           87000,
           55000,
           37000,
           24000,
           20000,
           20000,
           20000,
           20000,
           20000,
           12000,
           14000,
           8000,
           4000,
           4000,
           4000,
           60000,
           60000,
           60000,
           40000,
           33000,
           33000,
           33000,
           30000,
           30000,
           28000,
           22000,
           22000,
           6000,
           6000,
           6000,
           6000
          ],
          "sizemode": "area",
          "sizeref": 136
         },
         "mode": "markers",
         "name": "",
         "showlegend": false,
         "subplot": "mapbox",
         "type": "scattermapbox"
        },
        {
         "lat": [
          55,
          54.9
         ],
         "lon": [
          24.5,
          24
         ],
         "marker": {
          "color": "rgb(215, 193, 126)"
         },
         "mode": "lines",
         "type": "scattermapbox"
        },
        {
         "lat": [
          54.5,
          55
         ],
         "lon": [
          25.5,
          24.5
         ],
         "marker": {
          "color": "rgb(215, 193, 126)"
         },
         "mode": "lines",
         "type": "scattermapbox"
        },
        {
         "lat": [
          54.7,
          54.5
         ],
         "lon": [
          26,
          25.5
         ],
         "marker": {
          "color": "rgb(215, 193, 126)"
         },
         "mode": "lines",
         "type": "scattermapbox"
        },
        {
         "lat": [
          54.8,
          54.7
         ],
         "lon": [
          27,
          26
         ],
         "marker": {
          "color": "rgb(215, 193, 126)"
         },
         "mode": "lines",
         "type": "scattermapbox"
        },
        {
         "lat": [
          54.9,
          54.8
         ],
         "lon": [
          28,
          27
         ],
         "marker": {
          "color": "rgb(215, 193, 126)"
         },
         "mode": "lines",
         "type": "scattermapbox"
        },
        {
         "lat": [
          55,
          54.9
         ],
         "lon": [
          28.5,
          28
         ],
         "marker": {
          "color": "rgb(215, 193, 126)"
         },
         "mode": "lines",
         "type": "scattermapbox"
        },
        {
         "lat": [
          55.1,
          55
         ],
         "lon": [
          29,
          28.5
         ],
         "marker": {
          "color": "rgb(215, 193, 126)"
         },
         "mode": "lines",
         "type": "scattermapbox"
        },
        {
         "lat": [
          55.2,
          55.1
         ],
         "lon": [
          30,
          29
         ],
         "marker": {
          "color": "rgb(215, 193, 126)"
         },
         "mode": "lines",
         "type": "scattermapbox"
        },
        {
         "lat": [
          55.3,
          55.2
         ],
         "lon": [
          30.3,
          30
         ],
         "marker": {
          "color": "rgb(215, 193, 126)"
         },
         "mode": "lines",
         "type": "scattermapbox"
        },
        {
         "lat": [
          54.8,
          55.3
         ],
         "lon": [
          32,
          30.3
         ],
         "marker": {
          "color": "rgb(215, 193, 126)"
         },
         "mode": "lines",
         "type": "scattermapbox"
        },
        {
         "lat": [
          54.9,
          54.8
         ],
         "lon": [
          33.2,
          32
         ],
         "marker": {
          "color": "rgb(215, 193, 126)"
         },
         "mode": "lines",
         "type": "scattermapbox"
        },
        {
         "lat": [
          55.5,
          54.9
         ],
         "lon": [
          34.4,
          33.2
         ],
         "marker": {
          "color": "rgb(215, 193, 126)"
         },
         "mode": "lines",
         "type": "scattermapbox"
        },
        {
         "lat": [
          55.4,
          55.5
         ],
         "lon": [
          35.5,
          34.4
         ],
         "marker": {
          "color": "rgb(215, 193, 126)"
         },
         "mode": "lines",
         "type": "scattermapbox"
        },
        {
         "lat": [
          55.5,
          55.4
         ],
         "lon": [
          36,
          35.5
         ],
         "marker": {
          "color": "rgb(215, 193, 126)"
         },
         "mode": "lines",
         "type": "scattermapbox"
        },
        {
         "lat": [
          55.8,
          55.5
         ],
         "lon": [
          37.6,
          36
         ],
         "marker": {
          "color": "rgb(215, 193, 126)"
         },
         "mode": "lines",
         "type": "scattermapbox"
        },
        {
         "lat": [
          55.7,
          55.8
         ],
         "lon": [
          37.7,
          37.6
         ],
         "marker": {
          "color": "rgb(37, 37, 37)"
         },
         "mode": "lines",
         "type": "scattermapbox"
        },
        {
         "lat": [
          55.7,
          55.7
         ],
         "lon": [
          37.5,
          37.7
         ],
         "marker": {
          "color": "rgb(37, 37, 37)"
         },
         "mode": "lines",
         "type": "scattermapbox"
        },
        {
         "lat": [
          55,
          55.7
         ],
         "lon": [
          37,
          37.5
         ],
         "marker": {
          "color": "rgb(37, 37, 37)"
         },
         "mode": "lines",
         "type": "scattermapbox"
        },
        {
         "lat": [
          55,
          55
         ],
         "lon": [
          36.8,
          37
         ],
         "marker": {
          "color": "rgb(37, 37, 37)"
         },
         "mode": "lines",
         "type": "scattermapbox"
        },
        {
         "lat": [
          55.3,
          55
         ],
         "lon": [
          35.4,
          36.8
         ],
         "marker": {
          "color": "rgb(37, 37, 37)"
         },
         "mode": "lines",
         "type": "scattermapbox"
        },
        {
         "lat": [
          55.2,
          55.3
         ],
         "lon": [
          34.3,
          35.4
         ],
         "marker": {
          "color": "rgb(37, 37, 37)"
         },
         "mode": "lines",
         "type": "scattermapbox"
        },
        {
         "lat": [
          54.8,
          55.2
         ],
         "lon": [
          33.3,
          34.3
         ],
         "marker": {
          "color": "rgb(37, 37, 37)"
         },
         "mode": "lines",
         "type": "scattermapbox"
        },
        {
         "lat": [
          54.6,
          54.8
         ],
         "lon": [
          32,
          33.3
         ],
         "marker": {
          "color": "rgb(37, 37, 37)"
         },
         "mode": "lines",
         "type": "scattermapbox"
        },
        {
         "lat": [
          54.4,
          54.6
         ],
         "lon": [
          30.4,
          32
         ],
         "marker": {
          "color": "rgb(37, 37, 37)"
         },
         "mode": "lines",
         "type": "scattermapbox"
        },
        {
         "lat": [
          54.3,
          54.4
         ],
         "lon": [
          29.2,
          30.4
         ],
         "marker": {
          "color": "rgb(37, 37, 37)"
         },
         "mode": "lines",
         "type": "scattermapbox"
        },
        {
         "lat": [
          54.2,
          54.3
         ],
         "lon": [
          28.5,
          29.2
         ],
         "marker": {
          "color": "rgb(37, 37, 37)"
         },
         "mode": "lines",
         "type": "scattermapbox"
        },
        {
         "lat": [
          54.3,
          54.2
         ],
         "lon": [
          28.3,
          28.5
         ],
         "marker": {
          "color": "rgb(37, 37, 37)"
         },
         "mode": "lines",
         "type": "scattermapbox"
        },
        {
         "lat": [
          54.5,
          54.3
         ],
         "lon": [
          27.5,
          28.3
         ],
         "marker": {
          "color": "rgb(37, 37, 37)"
         },
         "mode": "lines",
         "type": "scattermapbox"
        },
        {
         "lat": [
          54.3,
          54.5
         ],
         "lon": [
          26.8,
          27.5
         ],
         "marker": {
          "color": "rgb(37, 37, 37)"
         },
         "mode": "lines",
         "type": "scattermapbox"
        },
        {
         "lat": [
          54.4,
          54.3
         ],
         "lon": [
          26.4,
          26.8
         ],
         "marker": {
          "color": "rgb(37, 37, 37)"
         },
         "mode": "lines",
         "type": "scattermapbox"
        },
        {
         "lat": [
          54.4,
          54.4
         ],
         "lon": [
          25,
          26.4
         ],
         "marker": {
          "color": "rgb(37, 37, 37)"
         },
         "mode": "lines",
         "type": "scattermapbox"
        },
        {
         "lat": [
          54.4,
          54.4
         ],
         "lon": [
          24.4,
          25
         ],
         "marker": {
          "color": "rgb(37, 37, 37)"
         },
         "mode": "lines",
         "type": "scattermapbox"
        },
        {
         "lat": [
          54.4,
          54.4
         ],
         "lon": [
          24.2,
          24.4
         ],
         "marker": {
          "color": "rgb(37, 37, 37)"
         },
         "mode": "lines",
         "type": "scattermapbox"
        },
        {
         "lat": [
          54.4,
          54.4
         ],
         "lon": [
          24.1,
          24.2
         ],
         "marker": {
          "color": "rgb(37, 37, 37)"
         },
         "mode": "lines",
         "type": "scattermapbox"
        },
        {
         "lat": [
          55.1,
          54.4
         ],
         "lon": [
          24,
          24.1
         ],
         "marker": {
          "color": "rgb(215, 193, 126)"
         },
         "mode": "lines",
         "type": "scattermapbox"
        },
        {
         "lat": [
          55.2,
          55.1
         ],
         "lon": [
          24.5,
          24
         ],
         "marker": {
          "color": "rgb(215, 193, 126)"
         },
         "mode": "lines",
         "type": "scattermapbox"
        },
        {
         "lat": [
          54.7,
          55.2
         ],
         "lon": [
          25.5,
          24.5
         ],
         "marker": {
          "color": "rgb(215, 193, 126)"
         },
         "mode": "lines",
         "type": "scattermapbox"
        },
        {
         "lat": [
          55.7,
          54.7
         ],
         "lon": [
          26.6,
          25.5
         ],
         "marker": {
          "color": "rgb(215, 193, 126)"
         },
         "mode": "lines",
         "type": "scattermapbox"
        },
        {
         "lat": [
          55.6,
          55.7
         ],
         "lon": [
          27.4,
          26.6
         ],
         "marker": {
          "color": "rgb(215, 193, 126)"
         },
         "mode": "lines",
         "type": "scattermapbox"
        },
        {
         "lat": [
          55.5,
          55.6
         ],
         "lon": [
          28.7,
          27.4
         ],
         "marker": {
          "color": "rgb(215, 193, 126)"
         },
         "mode": "lines",
         "type": "scattermapbox"
        },
        {
         "lat": [
          55.5,
          55.5
         ],
         "lon": [
          28.7,
          28.7
         ],
         "marker": {
          "color": "rgb(37, 37, 37)"
         },
         "mode": "lines",
         "type": "scattermapbox"
        },
        {
         "lat": [
          54.2,
          55.5
         ],
         "lon": [
          29.2,
          28.7
         ],
         "marker": {
          "color": "rgb(37, 37, 37)"
         },
         "mode": "lines",
         "type": "scattermapbox"
        },
        {
         "lat": [
          54.1,
          54.2
         ],
         "lon": [
          28.5,
          29.2
         ],
         "marker": {
          "color": "rgb(37, 37, 37)"
         },
         "mode": "lines",
         "type": "scattermapbox"
        },
        {
         "lat": [
          54.2,
          54.1
         ],
         "lon": [
          28.3,
          28.5
         ],
         "marker": {
          "color": "rgb(37, 37, 37)"
         },
         "mode": "lines",
         "type": "scattermapbox"
        },
        {
         "lat": [
          55.2,
          54.2
         ],
         "lon": [
          24,
          28.3
         ],
         "marker": {
          "color": "rgb(215, 193, 126)"
         },
         "mode": "lines",
         "type": "scattermapbox"
        },
        {
         "lat": [
          55.3,
          55.2
         ],
         "lon": [
          24.5,
          24
         ],
         "marker": {
          "color": "rgb(215, 193, 126)"
         },
         "mode": "lines",
         "type": "scattermapbox"
        },
        {
         "lat": [
          55.8,
          55.3
         ],
         "lon": [
          24.6,
          24.5
         ],
         "marker": {
          "color": "rgb(215, 193, 126)"
         },
         "mode": "lines",
         "type": "scattermapbox"
        },
        {
         "lat": [
          55.8,
          55.8
         ],
         "lon": [
          24.6,
          24.6
         ],
         "marker": {
          "color": "rgb(37, 37, 37)"
         },
         "mode": "lines",
         "type": "scattermapbox"
        },
        {
         "lat": [
          54.4,
          55.8
         ],
         "lon": [
          24.2,
          24.6
         ],
         "marker": {
          "color": "rgb(37, 37, 37)"
         },
         "mode": "lines",
         "type": "scattermapbox"
        },
        {
         "lat": [
          54.4,
          54.4
         ],
         "lon": [
          24.1,
          24.2
         ],
         "marker": {
          "color": "rgb(37, 37, 37)"
         },
         "mode": "lines",
         "type": "scattermapbox"
        },
        {
         "lat": [
          55,
          54.9
         ],
         "lon": [
          24.5,
          24
         ],
         "marker": {
          "color": "rgb(215, 193, 126)"
         },
         "mode": "lines",
         "type": "scattermapbox"
        },
        {
         "lat": [
          54.5,
          55
         ],
         "lon": [
          25.5,
          24.5
         ],
         "marker": {
          "color": "rgb(215, 193, 126)"
         },
         "mode": "lines",
         "type": "scattermapbox"
        },
        {
         "lat": [
          54.7,
          54.5
         ],
         "lon": [
          26,
          25.5
         ],
         "marker": {
          "color": "rgb(215, 193, 126)"
         },
         "mode": "lines",
         "type": "scattermapbox"
        },
        {
         "lat": [
          54.8,
          54.7
         ],
         "lon": [
          27,
          26
         ],
         "marker": {
          "color": "rgb(215, 193, 126)"
         },
         "mode": "lines",
         "type": "scattermapbox"
        },
        {
         "lat": [
          54.9,
          54.8
         ],
         "lon": [
          28,
          27
         ],
         "marker": {
          "color": "rgb(215, 193, 126)"
         },
         "mode": "lines",
         "type": "scattermapbox"
        },
        {
         "lat": [
          55,
          54.9
         ],
         "lon": [
          28.5,
          28
         ],
         "marker": {
          "color": "rgb(215, 193, 126)"
         },
         "mode": "lines",
         "type": "scattermapbox"
        },
        {
         "lat": [
          55.1,
          55
         ],
         "lon": [
          29,
          28.5
         ],
         "marker": {
          "color": "rgb(215, 193, 126)"
         },
         "mode": "lines",
         "type": "scattermapbox"
        },
        {
         "lat": [
          55.2,
          55.1
         ],
         "lon": [
          30,
          29
         ],
         "marker": {
          "color": "rgb(215, 193, 126)"
         },
         "mode": "lines",
         "type": "scattermapbox"
        },
        {
         "lat": [
          55.3,
          55.2
         ],
         "lon": [
          30.3,
          30
         ],
         "marker": {
          "color": "rgb(215, 193, 126)"
         },
         "mode": "lines",
         "type": "scattermapbox"
        },
        {
         "lat": [
          54.8,
          55.3
         ],
         "lon": [
          32,
          30.3
         ],
         "marker": {
          "color": "rgb(215, 193, 126)"
         },
         "mode": "lines",
         "type": "scattermapbox"
        },
        {
         "lat": [
          54.9,
          54.8
         ],
         "lon": [
          33.2,
          32
         ],
         "marker": {
          "color": "rgb(215, 193, 126)"
         },
         "mode": "lines",
         "type": "scattermapbox"
        },
        {
         "lat": [
          55.5,
          54.9
         ],
         "lon": [
          34.4,
          33.2
         ],
         "marker": {
          "color": "rgb(215, 193, 126)"
         },
         "mode": "lines",
         "type": "scattermapbox"
        },
        {
         "lat": [
          55.4,
          55.5
         ],
         "lon": [
          35.5,
          34.4
         ],
         "marker": {
          "color": "rgb(215, 193, 126)"
         },
         "mode": "lines",
         "type": "scattermapbox"
        },
        {
         "lat": [
          55.5,
          55.4
         ],
         "lon": [
          36,
          35.5
         ],
         "marker": {
          "color": "rgb(215, 193, 126)"
         },
         "mode": "lines",
         "type": "scattermapbox"
        },
        {
         "lat": [
          55.8,
          55.5
         ],
         "lon": [
          37.6,
          36
         ],
         "marker": {
          "color": "rgb(215, 193, 126)"
         },
         "mode": "lines",
         "type": "scattermapbox"
        },
        {
         "lat": [
          55.7,
          55.8
         ],
         "lon": [
          37.7,
          37.6
         ],
         "marker": {
          "color": "rgb(37, 37, 37)"
         },
         "mode": "lines",
         "type": "scattermapbox"
        },
        {
         "lat": [
          55.7,
          55.7
         ],
         "lon": [
          37.5,
          37.7
         ],
         "marker": {
          "color": "rgb(37, 37, 37)"
         },
         "mode": "lines",
         "type": "scattermapbox"
        },
        {
         "lat": [
          55,
          55.7
         ],
         "lon": [
          37,
          37.5
         ],
         "marker": {
          "color": "rgb(37, 37, 37)"
         },
         "mode": "lines",
         "type": "scattermapbox"
        },
        {
         "lat": [
          55,
          55
         ],
         "lon": [
          36.8,
          37
         ],
         "marker": {
          "color": "rgb(37, 37, 37)"
         },
         "mode": "lines",
         "type": "scattermapbox"
        },
        {
         "lat": [
          55.3,
          55
         ],
         "lon": [
          35.4,
          36.8
         ],
         "marker": {
          "color": "rgb(37, 37, 37)"
         },
         "mode": "lines",
         "type": "scattermapbox"
        },
        {
         "lat": [
          55.2,
          55.3
         ],
         "lon": [
          34.3,
          35.4
         ],
         "marker": {
          "color": "rgb(37, 37, 37)"
         },
         "mode": "lines",
         "type": "scattermapbox"
        },
        {
         "lat": [
          54.8,
          55.2
         ],
         "lon": [
          33.3,
          34.3
         ],
         "marker": {
          "color": "rgb(37, 37, 37)"
         },
         "mode": "lines",
         "type": "scattermapbox"
        },
        {
         "lat": [
          54.6,
          54.8
         ],
         "lon": [
          32,
          33.3
         ],
         "marker": {
          "color": "rgb(37, 37, 37)"
         },
         "mode": "lines",
         "type": "scattermapbox"
        },
        {
         "lat": [
          54.4,
          54.6
         ],
         "lon": [
          30.4,
          32
         ],
         "marker": {
          "color": "rgb(37, 37, 37)"
         },
         "mode": "lines",
         "type": "scattermapbox"
        },
        {
         "lat": [
          54.3,
          54.4
         ],
         "lon": [
          29.2,
          30.4
         ],
         "marker": {
          "color": "rgb(37, 37, 37)"
         },
         "mode": "lines",
         "type": "scattermapbox"
        },
        {
         "lat": [
          54.2,
          54.3
         ],
         "lon": [
          28.5,
          29.2
         ],
         "marker": {
          "color": "rgb(37, 37, 37)"
         },
         "mode": "lines",
         "type": "scattermapbox"
        },
        {
         "lat": [
          54.3,
          54.2
         ],
         "lon": [
          28.3,
          28.5
         ],
         "marker": {
          "color": "rgb(37, 37, 37)"
         },
         "mode": "lines",
         "type": "scattermapbox"
        },
        {
         "lat": [
          54.5,
          54.3
         ],
         "lon": [
          27.5,
          28.3
         ],
         "marker": {
          "color": "rgb(37, 37, 37)"
         },
         "mode": "lines",
         "type": "scattermapbox"
        },
        {
         "lat": [
          54.3,
          54.5
         ],
         "lon": [
          26.8,
          27.5
         ],
         "marker": {
          "color": "rgb(37, 37, 37)"
         },
         "mode": "lines",
         "type": "scattermapbox"
        },
        {
         "lat": [
          54.4,
          54.3
         ],
         "lon": [
          26.4,
          26.8
         ],
         "marker": {
          "color": "rgb(37, 37, 37)"
         },
         "mode": "lines",
         "type": "scattermapbox"
        },
        {
         "lat": [
          54.4,
          54.4
         ],
         "lon": [
          25,
          26.4
         ],
         "marker": {
          "color": "rgb(37, 37, 37)"
         },
         "mode": "lines",
         "type": "scattermapbox"
        },
        {
         "lat": [
          54.4,
          54.4
         ],
         "lon": [
          24.4,
          25
         ],
         "marker": {
          "color": "rgb(37, 37, 37)"
         },
         "mode": "lines",
         "type": "scattermapbox"
        },
        {
         "lat": [
          54.4,
          54.4
         ],
         "lon": [
          24.2,
          24.4
         ],
         "marker": {
          "color": "rgb(37, 37, 37)"
         },
         "mode": "lines",
         "type": "scattermapbox"
        },
        {
         "lat": [
          54.4,
          54.4
         ],
         "lon": [
          24.1,
          24.2
         ],
         "marker": {
          "color": "rgb(37, 37, 37)"
         },
         "mode": "lines",
         "type": "scattermapbox"
        },
        {
         "lat": [
          55.1,
          54.4
         ],
         "lon": [
          24,
          24.1
         ],
         "marker": {
          "color": "rgb(215, 193, 126)"
         },
         "mode": "lines",
         "type": "scattermapbox"
        },
        {
         "lat": [
          55.2,
          55.1
         ],
         "lon": [
          24.5,
          24
         ],
         "marker": {
          "color": "rgb(215, 193, 126)"
         },
         "mode": "lines",
         "type": "scattermapbox"
        },
        {
         "lat": [
          54.7,
          55.2
         ],
         "lon": [
          25.5,
          24.5
         ],
         "marker": {
          "color": "rgb(215, 193, 126)"
         },
         "mode": "lines",
         "type": "scattermapbox"
        },
        {
         "lat": [
          55.7,
          54.7
         ],
         "lon": [
          26.6,
          25.5
         ],
         "marker": {
          "color": "rgb(215, 193, 126)"
         },
         "mode": "lines",
         "type": "scattermapbox"
        },
        {
         "lat": [
          55.6,
          55.7
         ],
         "lon": [
          27.4,
          26.6
         ],
         "marker": {
          "color": "rgb(215, 193, 126)"
         },
         "mode": "lines",
         "type": "scattermapbox"
        },
        {
         "lat": [
          55.5,
          55.6
         ],
         "lon": [
          28.7,
          27.4
         ],
         "marker": {
          "color": "rgb(215, 193, 126)"
         },
         "mode": "lines",
         "type": "scattermapbox"
        },
        {
         "lat": [
          55.5,
          55.5
         ],
         "lon": [
          28.7,
          28.7
         ],
         "marker": {
          "color": "rgb(37, 37, 37)"
         },
         "mode": "lines",
         "type": "scattermapbox"
        },
        {
         "lat": [
          54.2,
          55.5
         ],
         "lon": [
          29.2,
          28.7
         ],
         "marker": {
          "color": "rgb(37, 37, 37)"
         },
         "mode": "lines",
         "type": "scattermapbox"
        },
        {
         "lat": [
          54.1,
          54.2
         ],
         "lon": [
          28.5,
          29.2
         ],
         "marker": {
          "color": "rgb(37, 37, 37)"
         },
         "mode": "lines",
         "type": "scattermapbox"
        },
        {
         "lat": [
          54.2,
          54.1
         ],
         "lon": [
          28.3,
          28.5
         ],
         "marker": {
          "color": "rgb(37, 37, 37)"
         },
         "mode": "lines",
         "type": "scattermapbox"
        },
        {
         "lat": [
          55.2,
          54.2
         ],
         "lon": [
          24,
          28.3
         ],
         "marker": {
          "color": "rgb(215, 193, 126)"
         },
         "mode": "lines",
         "type": "scattermapbox"
        },
        {
         "lat": [
          55.3,
          55.2
         ],
         "lon": [
          24.5,
          24
         ],
         "marker": {
          "color": "rgb(215, 193, 126)"
         },
         "mode": "lines",
         "type": "scattermapbox"
        },
        {
         "lat": [
          55.8,
          55.3
         ],
         "lon": [
          24.6,
          24.5
         ],
         "marker": {
          "color": "rgb(215, 193, 126)"
         },
         "mode": "lines",
         "type": "scattermapbox"
        },
        {
         "lat": [
          55.8,
          55.8
         ],
         "lon": [
          24.6,
          24.6
         ],
         "marker": {
          "color": "rgb(37, 37, 37)"
         },
         "mode": "lines",
         "type": "scattermapbox"
        },
        {
         "lat": [
          54.4,
          55.8
         ],
         "lon": [
          24.2,
          24.6
         ],
         "marker": {
          "color": "rgb(37, 37, 37)"
         },
         "mode": "lines",
         "type": "scattermapbox"
        },
        {
         "lat": [
          54.4,
          54.4
         ],
         "lon": [
          24.1,
          24.2
         ],
         "marker": {
          "color": "rgb(37, 37, 37)"
         },
         "mode": "lines",
         "type": "scattermapbox"
        }
       ],
       "layout": {
        "coloraxis": {
         "colorbar": {
          "title": {
           "text": "survivors"
          }
         },
         "colorscale": [
          [
           0,
           "rgb(37, 37, 37)"
          ],
          [
           1,
           "rgb(215, 193, 126)"
          ]
         ],
         "showscale": false
        },
        "legend": {
         "itemsizing": "constant",
         "tracegroupgap": 0
        },
        "mapbox": {
         "center": {
          "lat": 55,
          "lon": 31
         },
         "domain": {
          "x": [
           0,
           1
          ],
          "y": [
           0,
           1
          ]
         },
         "style": "carto-positron",
         "zoom": 5
        },
        "margin": {
         "b": 0,
         "l": 0,
         "r": 0,
         "t": 0
        },
        "showlegend": false,
        "template": {
         "data": {
          "bar": [
           {
            "error_x": {
             "color": "#2a3f5f"
            },
            "error_y": {
             "color": "#2a3f5f"
            },
            "marker": {
             "line": {
              "color": "#E5ECF6",
              "width": 0.5
             }
            },
            "type": "bar"
           }
          ],
          "barpolar": [
           {
            "marker": {
             "line": {
              "color": "#E5ECF6",
              "width": 0.5
             }
            },
            "type": "barpolar"
           }
          ],
          "carpet": [
           {
            "aaxis": {
             "endlinecolor": "#2a3f5f",
             "gridcolor": "white",
             "linecolor": "white",
             "minorgridcolor": "white",
             "startlinecolor": "#2a3f5f"
            },
            "baxis": {
             "endlinecolor": "#2a3f5f",
             "gridcolor": "white",
             "linecolor": "white",
             "minorgridcolor": "white",
             "startlinecolor": "#2a3f5f"
            },
            "type": "carpet"
           }
          ],
          "choropleth": [
           {
            "colorbar": {
             "outlinewidth": 0,
             "ticks": ""
            },
            "type": "choropleth"
           }
          ],
          "contour": [
           {
            "colorbar": {
             "outlinewidth": 0,
             "ticks": ""
            },
            "colorscale": [
             [
              0,
              "#0d0887"
             ],
             [
              0.1111111111111111,
              "#46039f"
             ],
             [
              0.2222222222222222,
              "#7201a8"
             ],
             [
              0.3333333333333333,
              "#9c179e"
             ],
             [
              0.4444444444444444,
              "#bd3786"
             ],
             [
              0.5555555555555556,
              "#d8576b"
             ],
             [
              0.6666666666666666,
              "#ed7953"
             ],
             [
              0.7777777777777778,
              "#fb9f3a"
             ],
             [
              0.8888888888888888,
              "#fdca26"
             ],
             [
              1,
              "#f0f921"
             ]
            ],
            "type": "contour"
           }
          ],
          "contourcarpet": [
           {
            "colorbar": {
             "outlinewidth": 0,
             "ticks": ""
            },
            "type": "contourcarpet"
           }
          ],
          "heatmap": [
           {
            "colorbar": {
             "outlinewidth": 0,
             "ticks": ""
            },
            "colorscale": [
             [
              0,
              "#0d0887"
             ],
             [
              0.1111111111111111,
              "#46039f"
             ],
             [
              0.2222222222222222,
              "#7201a8"
             ],
             [
              0.3333333333333333,
              "#9c179e"
             ],
             [
              0.4444444444444444,
              "#bd3786"
             ],
             [
              0.5555555555555556,
              "#d8576b"
             ],
             [
              0.6666666666666666,
              "#ed7953"
             ],
             [
              0.7777777777777778,
              "#fb9f3a"
             ],
             [
              0.8888888888888888,
              "#fdca26"
             ],
             [
              1,
              "#f0f921"
             ]
            ],
            "type": "heatmap"
           }
          ],
          "heatmapgl": [
           {
            "colorbar": {
             "outlinewidth": 0,
             "ticks": ""
            },
            "colorscale": [
             [
              0,
              "#0d0887"
             ],
             [
              0.1111111111111111,
              "#46039f"
             ],
             [
              0.2222222222222222,
              "#7201a8"
             ],
             [
              0.3333333333333333,
              "#9c179e"
             ],
             [
              0.4444444444444444,
              "#bd3786"
             ],
             [
              0.5555555555555556,
              "#d8576b"
             ],
             [
              0.6666666666666666,
              "#ed7953"
             ],
             [
              0.7777777777777778,
              "#fb9f3a"
             ],
             [
              0.8888888888888888,
              "#fdca26"
             ],
             [
              1,
              "#f0f921"
             ]
            ],
            "type": "heatmapgl"
           }
          ],
          "histogram": [
           {
            "marker": {
             "colorbar": {
              "outlinewidth": 0,
              "ticks": ""
             }
            },
            "type": "histogram"
           }
          ],
          "histogram2d": [
           {
            "colorbar": {
             "outlinewidth": 0,
             "ticks": ""
            },
            "colorscale": [
             [
              0,
              "#0d0887"
             ],
             [
              0.1111111111111111,
              "#46039f"
             ],
             [
              0.2222222222222222,
              "#7201a8"
             ],
             [
              0.3333333333333333,
              "#9c179e"
             ],
             [
              0.4444444444444444,
              "#bd3786"
             ],
             [
              0.5555555555555556,
              "#d8576b"
             ],
             [
              0.6666666666666666,
              "#ed7953"
             ],
             [
              0.7777777777777778,
              "#fb9f3a"
             ],
             [
              0.8888888888888888,
              "#fdca26"
             ],
             [
              1,
              "#f0f921"
             ]
            ],
            "type": "histogram2d"
           }
          ],
          "histogram2dcontour": [
           {
            "colorbar": {
             "outlinewidth": 0,
             "ticks": ""
            },
            "colorscale": [
             [
              0,
              "#0d0887"
             ],
             [
              0.1111111111111111,
              "#46039f"
             ],
             [
              0.2222222222222222,
              "#7201a8"
             ],
             [
              0.3333333333333333,
              "#9c179e"
             ],
             [
              0.4444444444444444,
              "#bd3786"
             ],
             [
              0.5555555555555556,
              "#d8576b"
             ],
             [
              0.6666666666666666,
              "#ed7953"
             ],
             [
              0.7777777777777778,
              "#fb9f3a"
             ],
             [
              0.8888888888888888,
              "#fdca26"
             ],
             [
              1,
              "#f0f921"
             ]
            ],
            "type": "histogram2dcontour"
           }
          ],
          "mesh3d": [
           {
            "colorbar": {
             "outlinewidth": 0,
             "ticks": ""
            },
            "type": "mesh3d"
           }
          ],
          "parcoords": [
           {
            "line": {
             "colorbar": {
              "outlinewidth": 0,
              "ticks": ""
             }
            },
            "type": "parcoords"
           }
          ],
          "pie": [
           {
            "automargin": true,
            "type": "pie"
           }
          ],
          "scatter": [
           {
            "marker": {
             "colorbar": {
              "outlinewidth": 0,
              "ticks": ""
             }
            },
            "type": "scatter"
           }
          ],
          "scatter3d": [
           {
            "line": {
             "colorbar": {
              "outlinewidth": 0,
              "ticks": ""
             }
            },
            "marker": {
             "colorbar": {
              "outlinewidth": 0,
              "ticks": ""
             }
            },
            "type": "scatter3d"
           }
          ],
          "scattercarpet": [
           {
            "marker": {
             "colorbar": {
              "outlinewidth": 0,
              "ticks": ""
             }
            },
            "type": "scattercarpet"
           }
          ],
          "scattergeo": [
           {
            "marker": {
             "colorbar": {
              "outlinewidth": 0,
              "ticks": ""
             }
            },
            "type": "scattergeo"
           }
          ],
          "scattergl": [
           {
            "marker": {
             "colorbar": {
              "outlinewidth": 0,
              "ticks": ""
             }
            },
            "type": "scattergl"
           }
          ],
          "scattermapbox": [
           {
            "marker": {
             "colorbar": {
              "outlinewidth": 0,
              "ticks": ""
             }
            },
            "type": "scattermapbox"
           }
          ],
          "scatterpolar": [
           {
            "marker": {
             "colorbar": {
              "outlinewidth": 0,
              "ticks": ""
             }
            },
            "type": "scatterpolar"
           }
          ],
          "scatterpolargl": [
           {
            "marker": {
             "colorbar": {
              "outlinewidth": 0,
              "ticks": ""
             }
            },
            "type": "scatterpolargl"
           }
          ],
          "scatterternary": [
           {
            "marker": {
             "colorbar": {
              "outlinewidth": 0,
              "ticks": ""
             }
            },
            "type": "scatterternary"
           }
          ],
          "surface": [
           {
            "colorbar": {
             "outlinewidth": 0,
             "ticks": ""
            },
            "colorscale": [
             [
              0,
              "#0d0887"
             ],
             [
              0.1111111111111111,
              "#46039f"
             ],
             [
              0.2222222222222222,
              "#7201a8"
             ],
             [
              0.3333333333333333,
              "#9c179e"
             ],
             [
              0.4444444444444444,
              "#bd3786"
             ],
             [
              0.5555555555555556,
              "#d8576b"
             ],
             [
              0.6666666666666666,
              "#ed7953"
             ],
             [
              0.7777777777777778,
              "#fb9f3a"
             ],
             [
              0.8888888888888888,
              "#fdca26"
             ],
             [
              1,
              "#f0f921"
             ]
            ],
            "type": "surface"
           }
          ],
          "table": [
           {
            "cells": {
             "fill": {
              "color": "#EBF0F8"
             },
             "line": {
              "color": "white"
             }
            },
            "header": {
             "fill": {
              "color": "#C8D4E3"
             },
             "line": {
              "color": "white"
             }
            },
            "type": "table"
           }
          ]
         },
         "layout": {
          "annotationdefaults": {
           "arrowcolor": "#2a3f5f",
           "arrowhead": 0,
           "arrowwidth": 1
          },
          "autotypenumbers": "strict",
          "coloraxis": {
           "colorbar": {
            "outlinewidth": 0,
            "ticks": ""
           }
          },
          "colorscale": {
           "diverging": [
            [
             0,
             "#8e0152"
            ],
            [
             0.1,
             "#c51b7d"
            ],
            [
             0.2,
             "#de77ae"
            ],
            [
             0.3,
             "#f1b6da"
            ],
            [
             0.4,
             "#fde0ef"
            ],
            [
             0.5,
             "#f7f7f7"
            ],
            [
             0.6,
             "#e6f5d0"
            ],
            [
             0.7,
             "#b8e186"
            ],
            [
             0.8,
             "#7fbc41"
            ],
            [
             0.9,
             "#4d9221"
            ],
            [
             1,
             "#276419"
            ]
           ],
           "sequential": [
            [
             0,
             "#0d0887"
            ],
            [
             0.1111111111111111,
             "#46039f"
            ],
            [
             0.2222222222222222,
             "#7201a8"
            ],
            [
             0.3333333333333333,
             "#9c179e"
            ],
            [
             0.4444444444444444,
             "#bd3786"
            ],
            [
             0.5555555555555556,
             "#d8576b"
            ],
            [
             0.6666666666666666,
             "#ed7953"
            ],
            [
             0.7777777777777778,
             "#fb9f3a"
            ],
            [
             0.8888888888888888,
             "#fdca26"
            ],
            [
             1,
             "#f0f921"
            ]
           ],
           "sequentialminus": [
            [
             0,
             "#0d0887"
            ],
            [
             0.1111111111111111,
             "#46039f"
            ],
            [
             0.2222222222222222,
             "#7201a8"
            ],
            [
             0.3333333333333333,
             "#9c179e"
            ],
            [
             0.4444444444444444,
             "#bd3786"
            ],
            [
             0.5555555555555556,
             "#d8576b"
            ],
            [
             0.6666666666666666,
             "#ed7953"
            ],
            [
             0.7777777777777778,
             "#fb9f3a"
            ],
            [
             0.8888888888888888,
             "#fdca26"
            ],
            [
             1,
             "#f0f921"
            ]
           ]
          },
          "colorway": [
           "#636efa",
           "#EF553B",
           "#00cc96",
           "#ab63fa",
           "#FFA15A",
           "#19d3f3",
           "#FF6692",
           "#B6E880",
           "#FF97FF",
           "#FECB52"
          ],
          "font": {
           "color": "#2a3f5f"
          },
          "geo": {
           "bgcolor": "white",
           "lakecolor": "white",
           "landcolor": "#E5ECF6",
           "showlakes": true,
           "showland": true,
           "subunitcolor": "white"
          },
          "hoverlabel": {
           "align": "left"
          },
          "hovermode": "closest",
          "mapbox": {
           "style": "light"
          },
          "paper_bgcolor": "white",
          "plot_bgcolor": "#E5ECF6",
          "polar": {
           "angularaxis": {
            "gridcolor": "white",
            "linecolor": "white",
            "ticks": ""
           },
           "bgcolor": "#E5ECF6",
           "radialaxis": {
            "gridcolor": "white",
            "linecolor": "white",
            "ticks": ""
           }
          },
          "scene": {
           "xaxis": {
            "backgroundcolor": "#E5ECF6",
            "gridcolor": "white",
            "gridwidth": 2,
            "linecolor": "white",
            "showbackground": true,
            "ticks": "",
            "zerolinecolor": "white"
           },
           "yaxis": {
            "backgroundcolor": "#E5ECF6",
            "gridcolor": "white",
            "gridwidth": 2,
            "linecolor": "white",
            "showbackground": true,
            "ticks": "",
            "zerolinecolor": "white"
           },
           "zaxis": {
            "backgroundcolor": "#E5ECF6",
            "gridcolor": "white",
            "gridwidth": 2,
            "linecolor": "white",
            "showbackground": true,
            "ticks": "",
            "zerolinecolor": "white"
           }
          },
          "shapedefaults": {
           "line": {
            "color": "#2a3f5f"
           }
          },
          "ternary": {
           "aaxis": {
            "gridcolor": "white",
            "linecolor": "white",
            "ticks": ""
           },
           "baxis": {
            "gridcolor": "white",
            "linecolor": "white",
            "ticks": ""
           },
           "bgcolor": "#E5ECF6",
           "caxis": {
            "gridcolor": "white",
            "linecolor": "white",
            "ticks": ""
           }
          },
          "title": {
           "x": 0.05
          },
          "xaxis": {
           "automargin": true,
           "gridcolor": "white",
           "linecolor": "white",
           "ticks": "",
           "title": {
            "standoff": 15
           },
           "zerolinecolor": "white",
           "zerolinewidth": 2
          },
          "yaxis": {
           "automargin": true,
           "gridcolor": "white",
           "linecolor": "white",
           "ticks": "",
           "title": {
            "standoff": 15
           },
           "zerolinecolor": "white",
           "zerolinewidth": 2
          }
         }
        }
       }
      },
      "text/html": "<div>                            <div id=\"34f227e4-d5d2-4f1e-a39d-91f6cdb3daf3\" class=\"plotly-graph-div\" style=\"height:525px; width:100%;\"></div>            <script type=\"text/javascript\">                require([\"plotly\"], function(Plotly) {                    window.PLOTLYENV=window.PLOTLYENV || {};                                    if (document.getElementById(\"34f227e4-d5d2-4f1e-a39d-91f6cdb3daf3\")) {                    Plotly.newPlot(                        \"34f227e4-d5d2-4f1e-a39d-91f6cdb3daf3\",                        [{\"hovertemplate\": \"survivors=%{marker.color}<br>lat1=%{lat}<br>lon1=%{lon}<extra></extra>\", \"lat\": [55.0, 54.5, 54.7, 54.8, 54.9, 55.0, 55.1, 55.2, 55.3, 54.8, 54.9, 55.5, 55.4, 55.5, 55.8, 55.7, 55.7, 55.0, 55.0, 55.3, 55.2, 54.8, 54.6, 54.4, 54.3, 54.2, 54.3, 54.5, 54.3, 54.4, 54.4, 54.4, 54.4, 54.4, 55.1, 55.2, 54.7, 55.7, 55.6, 55.5, 55.5, 54.2, 54.1, 54.2, 55.2, 55.3, 55.8, 55.8, 54.4, 54.4], \"legendgroup\": \"\", \"lon\": [24.5, 25.5, 26.0, 27.0, 28.0, 28.5, 29.0, 30.0, 30.3, 32.0, 33.2, 34.4, 35.5, 36.0, 37.6, 37.7, 37.5, 37.0, 36.8, 35.4, 34.3, 33.3, 32.0, 30.4, 29.2, 28.5, 28.3, 27.5, 26.8, 26.4, 25.0, 24.4, 24.2, 24.1, 24.0, 24.5, 25.5, 26.6, 27.4, 28.7, 28.7, 29.2, 28.5, 28.3, 24.0, 24.5, 24.6, 24.6, 24.2, 24.1], \"marker\": {\"color\": [340000, 340000, 320000, 300000, 280000, 240000, 210000, 180000, 175000, 145000, 140000, 127100, 100000, 100000, 100000, 100000, 98000, 97000, 96000, 87000, 55000, 37000, 24000, 20000, 20000, 20000, 20000, 20000, 12000, 14000, 8000, 4000, 4000, 4000, 60000, 60000, 60000, 40000, 33000, 33000, 33000, 30000, 30000, 28000, 22000, 22000, 6000, 6000, 6000, 6000], \"coloraxis\": \"coloraxis\", \"size\": [340000, 340000, 320000, 300000, 280000, 240000, 210000, 180000, 175000, 145000, 140000, 127100, 100000, 100000, 100000, 100000, 98000, 97000, 96000, 87000, 55000, 37000, 24000, 20000, 20000, 20000, 20000, 20000, 12000, 14000, 8000, 4000, 4000, 4000, 60000, 60000, 60000, 40000, 33000, 33000, 33000, 30000, 30000, 28000, 22000, 22000, 6000, 6000, 6000, 6000], \"sizemode\": \"area\", \"sizeref\": 136.0}, \"mode\": \"markers\", \"name\": \"\", \"showlegend\": false, \"subplot\": \"mapbox\", \"type\": \"scattermapbox\"}, {\"lat\": [55.0, 54.9], \"lon\": [24.5, 24.0], \"marker\": {\"color\": \"rgb(215, 193, 126)\"}, \"mode\": \"lines\", \"type\": \"scattermapbox\"}, {\"lat\": [54.5, 55.0], \"lon\": [25.5, 24.5], \"marker\": {\"color\": \"rgb(215, 193, 126)\"}, \"mode\": \"lines\", \"type\": \"scattermapbox\"}, {\"lat\": [54.7, 54.5], \"lon\": [26.0, 25.5], \"marker\": {\"color\": \"rgb(215, 193, 126)\"}, \"mode\": \"lines\", \"type\": \"scattermapbox\"}, {\"lat\": [54.8, 54.7], \"lon\": [27.0, 26.0], \"marker\": {\"color\": \"rgb(215, 193, 126)\"}, \"mode\": \"lines\", \"type\": \"scattermapbox\"}, {\"lat\": [54.9, 54.8], \"lon\": [28.0, 27.0], \"marker\": {\"color\": \"rgb(215, 193, 126)\"}, \"mode\": \"lines\", \"type\": \"scattermapbox\"}, {\"lat\": [55.0, 54.9], \"lon\": [28.5, 28.0], \"marker\": {\"color\": \"rgb(215, 193, 126)\"}, \"mode\": \"lines\", \"type\": \"scattermapbox\"}, {\"lat\": [55.1, 55.0], \"lon\": [29.0, 28.5], \"marker\": {\"color\": \"rgb(215, 193, 126)\"}, \"mode\": \"lines\", \"type\": \"scattermapbox\"}, {\"lat\": [55.2, 55.1], \"lon\": [30.0, 29.0], \"marker\": {\"color\": \"rgb(215, 193, 126)\"}, \"mode\": \"lines\", \"type\": \"scattermapbox\"}, {\"lat\": [55.3, 55.2], \"lon\": [30.3, 30.0], \"marker\": {\"color\": \"rgb(215, 193, 126)\"}, \"mode\": \"lines\", \"type\": \"scattermapbox\"}, {\"lat\": [54.8, 55.3], \"lon\": [32.0, 30.3], \"marker\": {\"color\": \"rgb(215, 193, 126)\"}, \"mode\": \"lines\", \"type\": \"scattermapbox\"}, {\"lat\": [54.9, 54.8], \"lon\": [33.2, 32.0], \"marker\": {\"color\": \"rgb(215, 193, 126)\"}, \"mode\": \"lines\", \"type\": \"scattermapbox\"}, {\"lat\": [55.5, 54.9], \"lon\": [34.4, 33.2], \"marker\": {\"color\": \"rgb(215, 193, 126)\"}, \"mode\": \"lines\", \"type\": \"scattermapbox\"}, {\"lat\": [55.4, 55.5], \"lon\": [35.5, 34.4], \"marker\": {\"color\": \"rgb(215, 193, 126)\"}, \"mode\": \"lines\", \"type\": \"scattermapbox\"}, {\"lat\": [55.5, 55.4], \"lon\": [36.0, 35.5], \"marker\": {\"color\": \"rgb(215, 193, 126)\"}, \"mode\": \"lines\", \"type\": \"scattermapbox\"}, {\"lat\": [55.8, 55.5], \"lon\": [37.6, 36.0], \"marker\": {\"color\": \"rgb(215, 193, 126)\"}, \"mode\": \"lines\", \"type\": \"scattermapbox\"}, {\"lat\": [55.7, 55.8], \"lon\": [37.7, 37.6], \"marker\": {\"color\": \"rgb(37, 37, 37)\"}, \"mode\": \"lines\", \"type\": \"scattermapbox\"}, {\"lat\": [55.7, 55.7], \"lon\": [37.5, 37.7], \"marker\": {\"color\": \"rgb(37, 37, 37)\"}, \"mode\": \"lines\", \"type\": \"scattermapbox\"}, {\"lat\": [55.0, 55.7], \"lon\": [37.0, 37.5], \"marker\": {\"color\": \"rgb(37, 37, 37)\"}, \"mode\": \"lines\", \"type\": \"scattermapbox\"}, {\"lat\": [55.0, 55.0], \"lon\": [36.8, 37.0], \"marker\": {\"color\": \"rgb(37, 37, 37)\"}, \"mode\": \"lines\", \"type\": \"scattermapbox\"}, {\"lat\": [55.3, 55.0], \"lon\": [35.4, 36.8], \"marker\": {\"color\": \"rgb(37, 37, 37)\"}, \"mode\": \"lines\", \"type\": \"scattermapbox\"}, {\"lat\": [55.2, 55.3], \"lon\": [34.3, 35.4], \"marker\": {\"color\": \"rgb(37, 37, 37)\"}, \"mode\": \"lines\", \"type\": \"scattermapbox\"}, {\"lat\": [54.8, 55.2], \"lon\": [33.3, 34.3], \"marker\": {\"color\": \"rgb(37, 37, 37)\"}, \"mode\": \"lines\", \"type\": \"scattermapbox\"}, {\"lat\": [54.6, 54.8], \"lon\": [32.0, 33.3], \"marker\": {\"color\": \"rgb(37, 37, 37)\"}, \"mode\": \"lines\", \"type\": \"scattermapbox\"}, {\"lat\": [54.4, 54.6], \"lon\": [30.4, 32.0], \"marker\": {\"color\": \"rgb(37, 37, 37)\"}, \"mode\": \"lines\", \"type\": \"scattermapbox\"}, {\"lat\": [54.3, 54.4], \"lon\": [29.2, 30.4], \"marker\": {\"color\": \"rgb(37, 37, 37)\"}, \"mode\": \"lines\", \"type\": \"scattermapbox\"}, {\"lat\": [54.2, 54.3], \"lon\": [28.5, 29.2], \"marker\": {\"color\": \"rgb(37, 37, 37)\"}, \"mode\": \"lines\", \"type\": \"scattermapbox\"}, {\"lat\": [54.3, 54.2], \"lon\": [28.3, 28.5], \"marker\": {\"color\": \"rgb(37, 37, 37)\"}, \"mode\": \"lines\", \"type\": \"scattermapbox\"}, {\"lat\": [54.5, 54.3], \"lon\": [27.5, 28.3], \"marker\": {\"color\": \"rgb(37, 37, 37)\"}, \"mode\": \"lines\", \"type\": \"scattermapbox\"}, {\"lat\": [54.3, 54.5], \"lon\": [26.8, 27.5], \"marker\": {\"color\": \"rgb(37, 37, 37)\"}, \"mode\": \"lines\", \"type\": \"scattermapbox\"}, {\"lat\": [54.4, 54.3], \"lon\": [26.4, 26.8], \"marker\": {\"color\": \"rgb(37, 37, 37)\"}, \"mode\": \"lines\", \"type\": \"scattermapbox\"}, {\"lat\": [54.4, 54.4], \"lon\": [25.0, 26.4], \"marker\": {\"color\": \"rgb(37, 37, 37)\"}, \"mode\": \"lines\", \"type\": \"scattermapbox\"}, {\"lat\": [54.4, 54.4], \"lon\": [24.4, 25.0], \"marker\": {\"color\": \"rgb(37, 37, 37)\"}, \"mode\": \"lines\", \"type\": \"scattermapbox\"}, {\"lat\": [54.4, 54.4], \"lon\": [24.2, 24.4], \"marker\": {\"color\": \"rgb(37, 37, 37)\"}, \"mode\": \"lines\", \"type\": \"scattermapbox\"}, {\"lat\": [54.4, 54.4], \"lon\": [24.1, 24.2], \"marker\": {\"color\": \"rgb(37, 37, 37)\"}, \"mode\": \"lines\", \"type\": \"scattermapbox\"}, {\"lat\": [55.1, 54.4], \"lon\": [24.0, 24.1], \"marker\": {\"color\": \"rgb(215, 193, 126)\"}, \"mode\": \"lines\", \"type\": \"scattermapbox\"}, {\"lat\": [55.2, 55.1], \"lon\": [24.5, 24.0], \"marker\": {\"color\": \"rgb(215, 193, 126)\"}, \"mode\": \"lines\", \"type\": \"scattermapbox\"}, {\"lat\": [54.7, 55.2], \"lon\": [25.5, 24.5], \"marker\": {\"color\": \"rgb(215, 193, 126)\"}, \"mode\": \"lines\", \"type\": \"scattermapbox\"}, {\"lat\": [55.7, 54.7], \"lon\": [26.6, 25.5], \"marker\": {\"color\": \"rgb(215, 193, 126)\"}, \"mode\": \"lines\", \"type\": \"scattermapbox\"}, {\"lat\": [55.6, 55.7], \"lon\": [27.4, 26.6], \"marker\": {\"color\": \"rgb(215, 193, 126)\"}, \"mode\": \"lines\", \"type\": \"scattermapbox\"}, {\"lat\": [55.5, 55.6], \"lon\": [28.7, 27.4], \"marker\": {\"color\": \"rgb(215, 193, 126)\"}, \"mode\": \"lines\", \"type\": \"scattermapbox\"}, {\"lat\": [55.5, 55.5], \"lon\": [28.7, 28.7], \"marker\": {\"color\": \"rgb(37, 37, 37)\"}, \"mode\": \"lines\", \"type\": \"scattermapbox\"}, {\"lat\": [54.2, 55.5], \"lon\": [29.2, 28.7], \"marker\": {\"color\": \"rgb(37, 37, 37)\"}, \"mode\": \"lines\", \"type\": \"scattermapbox\"}, {\"lat\": [54.1, 54.2], \"lon\": [28.5, 29.2], \"marker\": {\"color\": \"rgb(37, 37, 37)\"}, \"mode\": \"lines\", \"type\": \"scattermapbox\"}, {\"lat\": [54.2, 54.1], \"lon\": [28.3, 28.5], \"marker\": {\"color\": \"rgb(37, 37, 37)\"}, \"mode\": \"lines\", \"type\": \"scattermapbox\"}, {\"lat\": [55.2, 54.2], \"lon\": [24.0, 28.3], \"marker\": {\"color\": \"rgb(215, 193, 126)\"}, \"mode\": \"lines\", \"type\": \"scattermapbox\"}, {\"lat\": [55.3, 55.2], \"lon\": [24.5, 24.0], \"marker\": {\"color\": \"rgb(215, 193, 126)\"}, \"mode\": \"lines\", \"type\": \"scattermapbox\"}, {\"lat\": [55.8, 55.3], \"lon\": [24.6, 24.5], \"marker\": {\"color\": \"rgb(215, 193, 126)\"}, \"mode\": \"lines\", \"type\": \"scattermapbox\"}, {\"lat\": [55.8, 55.8], \"lon\": [24.6, 24.6], \"marker\": {\"color\": \"rgb(37, 37, 37)\"}, \"mode\": \"lines\", \"type\": \"scattermapbox\"}, {\"lat\": [54.4, 55.8], \"lon\": [24.2, 24.6], \"marker\": {\"color\": \"rgb(37, 37, 37)\"}, \"mode\": \"lines\", \"type\": \"scattermapbox\"}, {\"lat\": [54.4, 54.4], \"lon\": [24.1, 24.2], \"marker\": {\"color\": \"rgb(37, 37, 37)\"}, \"mode\": \"lines\", \"type\": \"scattermapbox\"}, {\"lat\": [55.0, 54.9], \"lon\": [24.5, 24.0], \"marker\": {\"color\": \"rgb(215, 193, 126)\"}, \"mode\": \"lines\", \"type\": \"scattermapbox\"}, {\"lat\": [54.5, 55.0], \"lon\": [25.5, 24.5], \"marker\": {\"color\": \"rgb(215, 193, 126)\"}, \"mode\": \"lines\", \"type\": \"scattermapbox\"}, {\"lat\": [54.7, 54.5], \"lon\": [26.0, 25.5], \"marker\": {\"color\": \"rgb(215, 193, 126)\"}, \"mode\": \"lines\", \"type\": \"scattermapbox\"}, {\"lat\": [54.8, 54.7], \"lon\": [27.0, 26.0], \"marker\": {\"color\": \"rgb(215, 193, 126)\"}, \"mode\": \"lines\", \"type\": \"scattermapbox\"}, {\"lat\": [54.9, 54.8], \"lon\": [28.0, 27.0], \"marker\": {\"color\": \"rgb(215, 193, 126)\"}, \"mode\": \"lines\", \"type\": \"scattermapbox\"}, {\"lat\": [55.0, 54.9], \"lon\": [28.5, 28.0], \"marker\": {\"color\": \"rgb(215, 193, 126)\"}, \"mode\": \"lines\", \"type\": \"scattermapbox\"}, {\"lat\": [55.1, 55.0], \"lon\": [29.0, 28.5], \"marker\": {\"color\": \"rgb(215, 193, 126)\"}, \"mode\": \"lines\", \"type\": \"scattermapbox\"}, {\"lat\": [55.2, 55.1], \"lon\": [30.0, 29.0], \"marker\": {\"color\": \"rgb(215, 193, 126)\"}, \"mode\": \"lines\", \"type\": \"scattermapbox\"}, {\"lat\": [55.3, 55.2], \"lon\": [30.3, 30.0], \"marker\": {\"color\": \"rgb(215, 193, 126)\"}, \"mode\": \"lines\", \"type\": \"scattermapbox\"}, {\"lat\": [54.8, 55.3], \"lon\": [32.0, 30.3], \"marker\": {\"color\": \"rgb(215, 193, 126)\"}, \"mode\": \"lines\", \"type\": \"scattermapbox\"}, {\"lat\": [54.9, 54.8], \"lon\": [33.2, 32.0], \"marker\": {\"color\": \"rgb(215, 193, 126)\"}, \"mode\": \"lines\", \"type\": \"scattermapbox\"}, {\"lat\": [55.5, 54.9], \"lon\": [34.4, 33.2], \"marker\": {\"color\": \"rgb(215, 193, 126)\"}, \"mode\": \"lines\", \"type\": \"scattermapbox\"}, {\"lat\": [55.4, 55.5], \"lon\": [35.5, 34.4], \"marker\": {\"color\": \"rgb(215, 193, 126)\"}, \"mode\": \"lines\", \"type\": \"scattermapbox\"}, {\"lat\": [55.5, 55.4], \"lon\": [36.0, 35.5], \"marker\": {\"color\": \"rgb(215, 193, 126)\"}, \"mode\": \"lines\", \"type\": \"scattermapbox\"}, {\"lat\": [55.8, 55.5], \"lon\": [37.6, 36.0], \"marker\": {\"color\": \"rgb(215, 193, 126)\"}, \"mode\": \"lines\", \"type\": \"scattermapbox\"}, {\"lat\": [55.7, 55.8], \"lon\": [37.7, 37.6], \"marker\": {\"color\": \"rgb(37, 37, 37)\"}, \"mode\": \"lines\", \"type\": \"scattermapbox\"}, {\"lat\": [55.7, 55.7], \"lon\": [37.5, 37.7], \"marker\": {\"color\": \"rgb(37, 37, 37)\"}, \"mode\": \"lines\", \"type\": \"scattermapbox\"}, {\"lat\": [55.0, 55.7], \"lon\": [37.0, 37.5], \"marker\": {\"color\": \"rgb(37, 37, 37)\"}, \"mode\": \"lines\", \"type\": \"scattermapbox\"}, {\"lat\": [55.0, 55.0], \"lon\": [36.8, 37.0], \"marker\": {\"color\": \"rgb(37, 37, 37)\"}, \"mode\": \"lines\", \"type\": \"scattermapbox\"}, {\"lat\": [55.3, 55.0], \"lon\": [35.4, 36.8], \"marker\": {\"color\": \"rgb(37, 37, 37)\"}, \"mode\": \"lines\", \"type\": \"scattermapbox\"}, {\"lat\": [55.2, 55.3], \"lon\": [34.3, 35.4], \"marker\": {\"color\": \"rgb(37, 37, 37)\"}, \"mode\": \"lines\", \"type\": \"scattermapbox\"}, {\"lat\": [54.8, 55.2], \"lon\": [33.3, 34.3], \"marker\": {\"color\": \"rgb(37, 37, 37)\"}, \"mode\": \"lines\", \"type\": \"scattermapbox\"}, {\"lat\": [54.6, 54.8], \"lon\": [32.0, 33.3], \"marker\": {\"color\": \"rgb(37, 37, 37)\"}, \"mode\": \"lines\", \"type\": \"scattermapbox\"}, {\"lat\": [54.4, 54.6], \"lon\": [30.4, 32.0], \"marker\": {\"color\": \"rgb(37, 37, 37)\"}, \"mode\": \"lines\", \"type\": \"scattermapbox\"}, {\"lat\": [54.3, 54.4], \"lon\": [29.2, 30.4], \"marker\": {\"color\": \"rgb(37, 37, 37)\"}, \"mode\": \"lines\", \"type\": \"scattermapbox\"}, {\"lat\": [54.2, 54.3], \"lon\": [28.5, 29.2], \"marker\": {\"color\": \"rgb(37, 37, 37)\"}, \"mode\": \"lines\", \"type\": \"scattermapbox\"}, {\"lat\": [54.3, 54.2], \"lon\": [28.3, 28.5], \"marker\": {\"color\": \"rgb(37, 37, 37)\"}, \"mode\": \"lines\", \"type\": \"scattermapbox\"}, {\"lat\": [54.5, 54.3], \"lon\": [27.5, 28.3], \"marker\": {\"color\": \"rgb(37, 37, 37)\"}, \"mode\": \"lines\", \"type\": \"scattermapbox\"}, {\"lat\": [54.3, 54.5], \"lon\": [26.8, 27.5], \"marker\": {\"color\": \"rgb(37, 37, 37)\"}, \"mode\": \"lines\", \"type\": \"scattermapbox\"}, {\"lat\": [54.4, 54.3], \"lon\": [26.4, 26.8], \"marker\": {\"color\": \"rgb(37, 37, 37)\"}, \"mode\": \"lines\", \"type\": \"scattermapbox\"}, {\"lat\": [54.4, 54.4], \"lon\": [25.0, 26.4], \"marker\": {\"color\": \"rgb(37, 37, 37)\"}, \"mode\": \"lines\", \"type\": \"scattermapbox\"}, {\"lat\": [54.4, 54.4], \"lon\": [24.4, 25.0], \"marker\": {\"color\": \"rgb(37, 37, 37)\"}, \"mode\": \"lines\", \"type\": \"scattermapbox\"}, {\"lat\": [54.4, 54.4], \"lon\": [24.2, 24.4], \"marker\": {\"color\": \"rgb(37, 37, 37)\"}, \"mode\": \"lines\", \"type\": \"scattermapbox\"}, {\"lat\": [54.4, 54.4], \"lon\": [24.1, 24.2], \"marker\": {\"color\": \"rgb(37, 37, 37)\"}, \"mode\": \"lines\", \"type\": \"scattermapbox\"}, {\"lat\": [55.1, 54.4], \"lon\": [24.0, 24.1], \"marker\": {\"color\": \"rgb(215, 193, 126)\"}, \"mode\": \"lines\", \"type\": \"scattermapbox\"}, {\"lat\": [55.2, 55.1], \"lon\": [24.5, 24.0], \"marker\": {\"color\": \"rgb(215, 193, 126)\"}, \"mode\": \"lines\", \"type\": \"scattermapbox\"}, {\"lat\": [54.7, 55.2], \"lon\": [25.5, 24.5], \"marker\": {\"color\": \"rgb(215, 193, 126)\"}, \"mode\": \"lines\", \"type\": \"scattermapbox\"}, {\"lat\": [55.7, 54.7], \"lon\": [26.6, 25.5], \"marker\": {\"color\": \"rgb(215, 193, 126)\"}, \"mode\": \"lines\", \"type\": \"scattermapbox\"}, {\"lat\": [55.6, 55.7], \"lon\": [27.4, 26.6], \"marker\": {\"color\": \"rgb(215, 193, 126)\"}, \"mode\": \"lines\", \"type\": \"scattermapbox\"}, {\"lat\": [55.5, 55.6], \"lon\": [28.7, 27.4], \"marker\": {\"color\": \"rgb(215, 193, 126)\"}, \"mode\": \"lines\", \"type\": \"scattermapbox\"}, {\"lat\": [55.5, 55.5], \"lon\": [28.7, 28.7], \"marker\": {\"color\": \"rgb(37, 37, 37)\"}, \"mode\": \"lines\", \"type\": \"scattermapbox\"}, {\"lat\": [54.2, 55.5], \"lon\": [29.2, 28.7], \"marker\": {\"color\": \"rgb(37, 37, 37)\"}, \"mode\": \"lines\", \"type\": \"scattermapbox\"}, {\"lat\": [54.1, 54.2], \"lon\": [28.5, 29.2], \"marker\": {\"color\": \"rgb(37, 37, 37)\"}, \"mode\": \"lines\", \"type\": \"scattermapbox\"}, {\"lat\": [54.2, 54.1], \"lon\": [28.3, 28.5], \"marker\": {\"color\": \"rgb(37, 37, 37)\"}, \"mode\": \"lines\", \"type\": \"scattermapbox\"}, {\"lat\": [55.2, 54.2], \"lon\": [24.0, 28.3], \"marker\": {\"color\": \"rgb(215, 193, 126)\"}, \"mode\": \"lines\", \"type\": \"scattermapbox\"}, {\"lat\": [55.3, 55.2], \"lon\": [24.5, 24.0], \"marker\": {\"color\": \"rgb(215, 193, 126)\"}, \"mode\": \"lines\", \"type\": \"scattermapbox\"}, {\"lat\": [55.8, 55.3], \"lon\": [24.6, 24.5], \"marker\": {\"color\": \"rgb(215, 193, 126)\"}, \"mode\": \"lines\", \"type\": \"scattermapbox\"}, {\"lat\": [55.8, 55.8], \"lon\": [24.6, 24.6], \"marker\": {\"color\": \"rgb(37, 37, 37)\"}, \"mode\": \"lines\", \"type\": \"scattermapbox\"}, {\"lat\": [54.4, 55.8], \"lon\": [24.2, 24.6], \"marker\": {\"color\": \"rgb(37, 37, 37)\"}, \"mode\": \"lines\", \"type\": \"scattermapbox\"}, {\"lat\": [54.4, 54.4], \"lon\": [24.1, 24.2], \"marker\": {\"color\": \"rgb(37, 37, 37)\"}, \"mode\": \"lines\", \"type\": \"scattermapbox\"}],                        {\"coloraxis\": {\"colorbar\": {\"title\": {\"text\": \"survivors\"}}, \"colorscale\": [[0, \"rgb(37, 37, 37)\"], [1, \"rgb(215, 193, 126)\"]], \"showscale\": false}, \"legend\": {\"itemsizing\": \"constant\", \"tracegroupgap\": 0}, \"mapbox\": {\"center\": {\"lat\": 55, \"lon\": 31}, \"domain\": {\"x\": [0.0, 1.0], \"y\": [0.0, 1.0]}, \"style\": \"carto-positron\", \"zoom\": 5}, \"margin\": {\"b\": 0, \"l\": 0, \"r\": 0, \"t\": 0}, \"showlegend\": false, \"template\": {\"data\": {\"bar\": [{\"error_x\": {\"color\": \"#2a3f5f\"}, \"error_y\": {\"color\": \"#2a3f5f\"}, \"marker\": {\"line\": {\"color\": \"#E5ECF6\", \"width\": 0.5}}, \"type\": \"bar\"}], \"barpolar\": [{\"marker\": {\"line\": {\"color\": \"#E5ECF6\", \"width\": 0.5}}, \"type\": \"barpolar\"}], \"carpet\": [{\"aaxis\": {\"endlinecolor\": \"#2a3f5f\", \"gridcolor\": \"white\", \"linecolor\": \"white\", \"minorgridcolor\": \"white\", \"startlinecolor\": \"#2a3f5f\"}, \"baxis\": {\"endlinecolor\": \"#2a3f5f\", \"gridcolor\": \"white\", \"linecolor\": \"white\", \"minorgridcolor\": \"white\", \"startlinecolor\": \"#2a3f5f\"}, \"type\": \"carpet\"}], \"choropleth\": [{\"colorbar\": {\"outlinewidth\": 0, \"ticks\": \"\"}, \"type\": \"choropleth\"}], \"contour\": [{\"colorbar\": {\"outlinewidth\": 0, \"ticks\": \"\"}, \"colorscale\": [[0.0, \"#0d0887\"], [0.1111111111111111, \"#46039f\"], [0.2222222222222222, \"#7201a8\"], [0.3333333333333333, \"#9c179e\"], [0.4444444444444444, \"#bd3786\"], [0.5555555555555556, \"#d8576b\"], [0.6666666666666666, \"#ed7953\"], [0.7777777777777778, \"#fb9f3a\"], [0.8888888888888888, \"#fdca26\"], [1.0, \"#f0f921\"]], \"type\": \"contour\"}], \"contourcarpet\": [{\"colorbar\": {\"outlinewidth\": 0, \"ticks\": \"\"}, \"type\": \"contourcarpet\"}], \"heatmap\": [{\"colorbar\": {\"outlinewidth\": 0, \"ticks\": \"\"}, \"colorscale\": [[0.0, \"#0d0887\"], [0.1111111111111111, \"#46039f\"], [0.2222222222222222, \"#7201a8\"], [0.3333333333333333, \"#9c179e\"], [0.4444444444444444, \"#bd3786\"], [0.5555555555555556, \"#d8576b\"], [0.6666666666666666, \"#ed7953\"], [0.7777777777777778, \"#fb9f3a\"], [0.8888888888888888, \"#fdca26\"], [1.0, \"#f0f921\"]], \"type\": \"heatmap\"}], \"heatmapgl\": [{\"colorbar\": {\"outlinewidth\": 0, \"ticks\": \"\"}, \"colorscale\": [[0.0, \"#0d0887\"], [0.1111111111111111, \"#46039f\"], [0.2222222222222222, \"#7201a8\"], [0.3333333333333333, \"#9c179e\"], [0.4444444444444444, \"#bd3786\"], [0.5555555555555556, \"#d8576b\"], [0.6666666666666666, \"#ed7953\"], [0.7777777777777778, \"#fb9f3a\"], [0.8888888888888888, \"#fdca26\"], [1.0, \"#f0f921\"]], \"type\": \"heatmapgl\"}], \"histogram\": [{\"marker\": {\"colorbar\": {\"outlinewidth\": 0, \"ticks\": \"\"}}, \"type\": \"histogram\"}], \"histogram2d\": [{\"colorbar\": {\"outlinewidth\": 0, \"ticks\": \"\"}, \"colorscale\": [[0.0, \"#0d0887\"], [0.1111111111111111, \"#46039f\"], [0.2222222222222222, \"#7201a8\"], [0.3333333333333333, \"#9c179e\"], [0.4444444444444444, \"#bd3786\"], [0.5555555555555556, \"#d8576b\"], [0.6666666666666666, \"#ed7953\"], [0.7777777777777778, \"#fb9f3a\"], [0.8888888888888888, \"#fdca26\"], [1.0, \"#f0f921\"]], \"type\": \"histogram2d\"}], \"histogram2dcontour\": [{\"colorbar\": {\"outlinewidth\": 0, \"ticks\": \"\"}, \"colorscale\": [[0.0, \"#0d0887\"], [0.1111111111111111, \"#46039f\"], [0.2222222222222222, \"#7201a8\"], [0.3333333333333333, \"#9c179e\"], [0.4444444444444444, \"#bd3786\"], [0.5555555555555556, \"#d8576b\"], [0.6666666666666666, \"#ed7953\"], [0.7777777777777778, \"#fb9f3a\"], [0.8888888888888888, \"#fdca26\"], [1.0, \"#f0f921\"]], \"type\": \"histogram2dcontour\"}], \"mesh3d\": [{\"colorbar\": {\"outlinewidth\": 0, \"ticks\": \"\"}, \"type\": \"mesh3d\"}], \"parcoords\": [{\"line\": {\"colorbar\": {\"outlinewidth\": 0, \"ticks\": \"\"}}, \"type\": \"parcoords\"}], \"pie\": [{\"automargin\": true, \"type\": \"pie\"}], \"scatter\": [{\"marker\": {\"colorbar\": {\"outlinewidth\": 0, \"ticks\": \"\"}}, \"type\": \"scatter\"}], \"scatter3d\": [{\"line\": {\"colorbar\": {\"outlinewidth\": 0, \"ticks\": \"\"}}, \"marker\": {\"colorbar\": {\"outlinewidth\": 0, \"ticks\": \"\"}}, \"type\": \"scatter3d\"}], \"scattercarpet\": [{\"marker\": {\"colorbar\": {\"outlinewidth\": 0, \"ticks\": \"\"}}, \"type\": \"scattercarpet\"}], \"scattergeo\": [{\"marker\": {\"colorbar\": {\"outlinewidth\": 0, \"ticks\": \"\"}}, \"type\": \"scattergeo\"}], \"scattergl\": [{\"marker\": {\"colorbar\": {\"outlinewidth\": 0, \"ticks\": \"\"}}, \"type\": \"scattergl\"}], \"scattermapbox\": [{\"marker\": {\"colorbar\": {\"outlinewidth\": 0, \"ticks\": \"\"}}, \"type\": \"scattermapbox\"}], \"scatterpolar\": [{\"marker\": {\"colorbar\": {\"outlinewidth\": 0, \"ticks\": \"\"}}, \"type\": \"scatterpolar\"}], \"scatterpolargl\": [{\"marker\": {\"colorbar\": {\"outlinewidth\": 0, \"ticks\": \"\"}}, \"type\": \"scatterpolargl\"}], \"scatterternary\": [{\"marker\": {\"colorbar\": {\"outlinewidth\": 0, \"ticks\": \"\"}}, \"type\": \"scatterternary\"}], \"surface\": [{\"colorbar\": {\"outlinewidth\": 0, \"ticks\": \"\"}, \"colorscale\": [[0.0, \"#0d0887\"], [0.1111111111111111, \"#46039f\"], [0.2222222222222222, \"#7201a8\"], [0.3333333333333333, \"#9c179e\"], [0.4444444444444444, \"#bd3786\"], [0.5555555555555556, \"#d8576b\"], [0.6666666666666666, \"#ed7953\"], [0.7777777777777778, \"#fb9f3a\"], [0.8888888888888888, \"#fdca26\"], [1.0, \"#f0f921\"]], \"type\": \"surface\"}], \"table\": [{\"cells\": {\"fill\": {\"color\": \"#EBF0F8\"}, \"line\": {\"color\": \"white\"}}, \"header\": {\"fill\": {\"color\": \"#C8D4E3\"}, \"line\": {\"color\": \"white\"}}, \"type\": \"table\"}]}, \"layout\": {\"annotationdefaults\": {\"arrowcolor\": \"#2a3f5f\", \"arrowhead\": 0, \"arrowwidth\": 1}, \"autotypenumbers\": \"strict\", \"coloraxis\": {\"colorbar\": {\"outlinewidth\": 0, \"ticks\": \"\"}}, \"colorscale\": {\"diverging\": [[0, \"#8e0152\"], [0.1, \"#c51b7d\"], [0.2, \"#de77ae\"], [0.3, \"#f1b6da\"], [0.4, \"#fde0ef\"], [0.5, \"#f7f7f7\"], [0.6, \"#e6f5d0\"], [0.7, \"#b8e186\"], [0.8, \"#7fbc41\"], [0.9, \"#4d9221\"], [1, \"#276419\"]], \"sequential\": [[0.0, \"#0d0887\"], [0.1111111111111111, \"#46039f\"], [0.2222222222222222, \"#7201a8\"], [0.3333333333333333, \"#9c179e\"], [0.4444444444444444, \"#bd3786\"], [0.5555555555555556, \"#d8576b\"], [0.6666666666666666, \"#ed7953\"], [0.7777777777777778, \"#fb9f3a\"], [0.8888888888888888, \"#fdca26\"], [1.0, \"#f0f921\"]], \"sequentialminus\": [[0.0, \"#0d0887\"], [0.1111111111111111, \"#46039f\"], [0.2222222222222222, \"#7201a8\"], [0.3333333333333333, \"#9c179e\"], [0.4444444444444444, \"#bd3786\"], [0.5555555555555556, \"#d8576b\"], [0.6666666666666666, \"#ed7953\"], [0.7777777777777778, \"#fb9f3a\"], [0.8888888888888888, \"#fdca26\"], [1.0, \"#f0f921\"]]}, \"colorway\": [\"#636efa\", \"#EF553B\", \"#00cc96\", \"#ab63fa\", \"#FFA15A\", \"#19d3f3\", \"#FF6692\", \"#B6E880\", \"#FF97FF\", \"#FECB52\"], \"font\": {\"color\": \"#2a3f5f\"}, \"geo\": {\"bgcolor\": \"white\", \"lakecolor\": \"white\", \"landcolor\": \"#E5ECF6\", \"showlakes\": true, \"showland\": true, \"subunitcolor\": \"white\"}, \"hoverlabel\": {\"align\": \"left\"}, \"hovermode\": \"closest\", \"mapbox\": {\"style\": \"light\"}, \"paper_bgcolor\": \"white\", \"plot_bgcolor\": \"#E5ECF6\", \"polar\": {\"angularaxis\": {\"gridcolor\": \"white\", \"linecolor\": \"white\", \"ticks\": \"\"}, \"bgcolor\": \"#E5ECF6\", \"radialaxis\": {\"gridcolor\": \"white\", \"linecolor\": \"white\", \"ticks\": \"\"}}, \"scene\": {\"xaxis\": {\"backgroundcolor\": \"#E5ECF6\", \"gridcolor\": \"white\", \"gridwidth\": 2, \"linecolor\": \"white\", \"showbackground\": true, \"ticks\": \"\", \"zerolinecolor\": \"white\"}, \"yaxis\": {\"backgroundcolor\": \"#E5ECF6\", \"gridcolor\": \"white\", \"gridwidth\": 2, \"linecolor\": \"white\", \"showbackground\": true, \"ticks\": \"\", \"zerolinecolor\": \"white\"}, \"zaxis\": {\"backgroundcolor\": \"#E5ECF6\", \"gridcolor\": \"white\", \"gridwidth\": 2, \"linecolor\": \"white\", \"showbackground\": true, \"ticks\": \"\", \"zerolinecolor\": \"white\"}}, \"shapedefaults\": {\"line\": {\"color\": \"#2a3f5f\"}}, \"ternary\": {\"aaxis\": {\"gridcolor\": \"white\", \"linecolor\": \"white\", \"ticks\": \"\"}, \"baxis\": {\"gridcolor\": \"white\", \"linecolor\": \"white\", \"ticks\": \"\"}, \"bgcolor\": \"#E5ECF6\", \"caxis\": {\"gridcolor\": \"white\", \"linecolor\": \"white\", \"ticks\": \"\"}}, \"title\": {\"x\": 0.05}, \"xaxis\": {\"automargin\": true, \"gridcolor\": \"white\", \"linecolor\": \"white\", \"ticks\": \"\", \"title\": {\"standoff\": 15}, \"zerolinecolor\": \"white\", \"zerolinewidth\": 2}, \"yaxis\": {\"automargin\": true, \"gridcolor\": \"white\", \"linecolor\": \"white\", \"ticks\": \"\", \"title\": {\"standoff\": 15}, \"zerolinecolor\": \"white\", \"zerolinewidth\": 2}}}},                        {\"responsive\": true}                    ).then(function(){\n                            \nvar gd = document.getElementById('34f227e4-d5d2-4f1e-a39d-91f6cdb3daf3');\nvar x = new MutationObserver(function (mutations, observer) {{\n        var display = window.getComputedStyle(gd).display;\n        if (!display || display === 'none') {{\n            console.log([gd, 'removed!']);\n            Plotly.purge(gd);\n            observer.disconnect();\n        }}\n}});\n\n// Listen for the removal of the full notebook cells\nvar notebookContainer = gd.closest('#notebook-container');\nif (notebookContainer) {{\n    x.observe(notebookContainer, {childList: true});\n}}\n\n// Listen for the clearing of the current output cell\nvar outputEl = gd.closest('.output');\nif (outputEl) {{\n    x.observe(outputEl, {childList: true});\n}}\n\n                        })                };                });            </script>        </div>"
     },
     "metadata": {}
    }
   ],
   "source": [
    "import plotly.graph_objects as go\n",
    "color={0:'rgb(215, 193, 126)',1:'rgb(37, 37, 37)'}\n",
    "for index, row in df.iterrows():\n",
    "# fig.add_trace(fig2.data[0])\n",
    "    fig.add_trace(go.Scattermapbox(\n",
    "        mode = \"lines\",\n",
    "        lon = row.lons,\n",
    "        lat =row.lats,\n",
    "        marker = {\n",
    "        'color': color[row.direction]\n",
    "        }\n",
    "        ))\n",
    "\n",
    "fig.show()"
   ]
  },
  {
   "cell_type": "code",
   "execution_count": 11,
   "metadata": {},
   "outputs": [
    {
     "output_type": "execute_result",
     "data": {
      "text/plain": [
       "340000"
      ]
     },
     "metadata": {},
     "execution_count": 11
    }
   ],
   "source": [
    "df.survivors.max()"
   ]
  },
  {
   "cell_type": "code",
   "execution_count": 12,
   "metadata": {},
   "outputs": [
    {
     "output_type": "execute_result",
     "data": {
      "text/plain": [
       "4000"
      ]
     },
     "metadata": {},
     "execution_count": 12
    }
   ],
   "source": [
    "df.survivors.min()"
   ]
  },
  {
   "cell_type": "code",
   "execution_count": null,
   "metadata": {},
   "outputs": [],
   "source": []
  },
  {
   "cell_type": "code",
   "execution_count": 23,
   "metadata": {},
   "outputs": [
    {
     "output_type": "display_data",
     "data": {
      "application/vnd.plotly.v1+json": {
       "config": {
        "plotlyServerURL": "https://plot.ly"
       },
       "data": [
        {
         "hovertemplate": "survivors=%{marker.color}<br>lat1=%{lat}<br>lon1=%{lon}<extra></extra>",
         "lat": [
          55,
          54.5,
          54.7,
          54.8,
          54.9,
          55,
          55.1,
          55.2,
          55.3,
          54.8,
          54.9,
          55.5,
          55.4,
          55.5,
          55.8,
          55.7,
          55.7,
          55,
          55,
          55.3,
          55.2,
          54.8,
          54.6,
          54.4,
          54.3,
          54.2,
          54.3,
          54.5,
          54.3,
          54.4,
          54.4,
          54.4,
          54.4,
          54.4,
          55.1,
          55.2,
          54.7,
          55.7,
          55.6,
          55.5,
          55.5,
          54.2,
          54.1,
          54.2,
          55.2,
          55.3,
          55.8,
          55.8,
          54.4,
          54.4
         ],
         "legendgroup": "",
         "lon": [
          24.5,
          25.5,
          26,
          27,
          28,
          28.5,
          29,
          30,
          30.3,
          32,
          33.2,
          34.4,
          35.5,
          36,
          37.6,
          37.7,
          37.5,
          37,
          36.8,
          35.4,
          34.3,
          33.3,
          32,
          30.4,
          29.2,
          28.5,
          28.3,
          27.5,
          26.8,
          26.4,
          25,
          24.4,
          24.2,
          24.1,
          24,
          24.5,
          25.5,
          26.6,
          27.4,
          28.7,
          28.7,
          29.2,
          28.5,
          28.3,
          24,
          24.5,
          24.6,
          24.6,
          24.2,
          24.1
         ],
         "marker": {
          "color": [
           340000,
           340000,
           320000,
           300000,
           280000,
           240000,
           210000,
           180000,
           175000,
           145000,
           140000,
           127100,
           100000,
           100000,
           100000,
           100000,
           98000,
           97000,
           96000,
           87000,
           55000,
           37000,
           24000,
           20000,
           20000,
           20000,
           20000,
           20000,
           12000,
           14000,
           8000,
           4000,
           4000,
           4000,
           60000,
           60000,
           60000,
           40000,
           33000,
           33000,
           33000,
           30000,
           30000,
           28000,
           22000,
           22000,
           6000,
           6000,
           6000,
           6000
          ],
          "coloraxis": "coloraxis",
          "size": [
           340000,
           340000,
           320000,
           300000,
           280000,
           240000,
           210000,
           180000,
           175000,
           145000,
           140000,
           127100,
           100000,
           100000,
           100000,
           100000,
           98000,
           97000,
           96000,
           87000,
           55000,
           37000,
           24000,
           20000,
           20000,
           20000,
           20000,
           20000,
           12000,
           14000,
           8000,
           4000,
           4000,
           4000,
           60000,
           60000,
           60000,
           40000,
           33000,
           33000,
           33000,
           30000,
           30000,
           28000,
           22000,
           22000,
           6000,
           6000,
           6000,
           6000
          ],
          "sizemode": "area",
          "sizeref": 136
         },
         "mode": "markers",
         "name": "",
         "showlegend": false,
         "subplot": "mapbox",
         "type": "scattermapbox"
        },
        {
         "lat": [
          55,
          54.9
         ],
         "lon": [
          24.5,
          24
         ],
         "marker": {
          "color": "rgb(215, 193, 126)"
         },
         "mode": "lines",
         "type": "scattermapbox"
        },
        {
         "lat": [
          54.5,
          55
         ],
         "lon": [
          25.5,
          24.5
         ],
         "marker": {
          "color": "rgb(215, 193, 126)"
         },
         "mode": "lines",
         "type": "scattermapbox"
        },
        {
         "lat": [
          54.7,
          54.5
         ],
         "lon": [
          26,
          25.5
         ],
         "marker": {
          "color": "rgb(215, 193, 126)"
         },
         "mode": "lines",
         "type": "scattermapbox"
        },
        {
         "lat": [
          54.8,
          54.7
         ],
         "lon": [
          27,
          26
         ],
         "marker": {
          "color": "rgb(215, 193, 126)"
         },
         "mode": "lines",
         "type": "scattermapbox"
        },
        {
         "lat": [
          54.9,
          54.8
         ],
         "lon": [
          28,
          27
         ],
         "marker": {
          "color": "rgb(215, 193, 126)"
         },
         "mode": "lines",
         "type": "scattermapbox"
        },
        {
         "lat": [
          55,
          54.9
         ],
         "lon": [
          28.5,
          28
         ],
         "marker": {
          "color": "rgb(215, 193, 126)"
         },
         "mode": "lines",
         "type": "scattermapbox"
        },
        {
         "lat": [
          55.1,
          55
         ],
         "lon": [
          29,
          28.5
         ],
         "marker": {
          "color": "rgb(215, 193, 126)"
         },
         "mode": "lines",
         "type": "scattermapbox"
        },
        {
         "lat": [
          55.2,
          55.1
         ],
         "lon": [
          30,
          29
         ],
         "marker": {
          "color": "rgb(215, 193, 126)"
         },
         "mode": "lines",
         "type": "scattermapbox"
        },
        {
         "lat": [
          55.3,
          55.2
         ],
         "lon": [
          30.3,
          30
         ],
         "marker": {
          "color": "rgb(215, 193, 126)"
         },
         "mode": "lines",
         "type": "scattermapbox"
        },
        {
         "lat": [
          54.8,
          55.3
         ],
         "lon": [
          32,
          30.3
         ],
         "marker": {
          "color": "rgb(215, 193, 126)"
         },
         "mode": "lines",
         "type": "scattermapbox"
        },
        {
         "lat": [
          54.9,
          54.8
         ],
         "lon": [
          33.2,
          32
         ],
         "marker": {
          "color": "rgb(215, 193, 126)"
         },
         "mode": "lines",
         "type": "scattermapbox"
        },
        {
         "lat": [
          55.5,
          54.9
         ],
         "lon": [
          34.4,
          33.2
         ],
         "marker": {
          "color": "rgb(215, 193, 126)"
         },
         "mode": "lines",
         "type": "scattermapbox"
        },
        {
         "lat": [
          55.4,
          55.5
         ],
         "lon": [
          35.5,
          34.4
         ],
         "marker": {
          "color": "rgb(215, 193, 126)"
         },
         "mode": "lines",
         "type": "scattermapbox"
        },
        {
         "lat": [
          55.5,
          55.4
         ],
         "lon": [
          36,
          35.5
         ],
         "marker": {
          "color": "rgb(215, 193, 126)"
         },
         "mode": "lines",
         "type": "scattermapbox"
        },
        {
         "lat": [
          55.8,
          55.5
         ],
         "lon": [
          37.6,
          36
         ],
         "marker": {
          "color": "rgb(215, 193, 126)"
         },
         "mode": "lines",
         "type": "scattermapbox"
        },
        {
         "lat": [
          55.7,
          55.8
         ],
         "lon": [
          37.7,
          37.6
         ],
         "marker": {
          "color": "rgb(37, 37, 37)"
         },
         "mode": "lines",
         "type": "scattermapbox"
        },
        {
         "lat": [
          55.7,
          55.7
         ],
         "lon": [
          37.5,
          37.7
         ],
         "marker": {
          "color": "rgb(37, 37, 37)"
         },
         "mode": "lines",
         "type": "scattermapbox"
        },
        {
         "lat": [
          55,
          55.7
         ],
         "lon": [
          37,
          37.5
         ],
         "marker": {
          "color": "rgb(37, 37, 37)"
         },
         "mode": "lines",
         "type": "scattermapbox"
        },
        {
         "lat": [
          55,
          55
         ],
         "lon": [
          36.8,
          37
         ],
         "marker": {
          "color": "rgb(37, 37, 37)"
         },
         "mode": "lines",
         "type": "scattermapbox"
        },
        {
         "lat": [
          55.3,
          55
         ],
         "lon": [
          35.4,
          36.8
         ],
         "marker": {
          "color": "rgb(37, 37, 37)"
         },
         "mode": "lines",
         "type": "scattermapbox"
        },
        {
         "lat": [
          55.2,
          55.3
         ],
         "lon": [
          34.3,
          35.4
         ],
         "marker": {
          "color": "rgb(37, 37, 37)"
         },
         "mode": "lines",
         "type": "scattermapbox"
        },
        {
         "lat": [
          54.8,
          55.2
         ],
         "lon": [
          33.3,
          34.3
         ],
         "marker": {
          "color": "rgb(37, 37, 37)"
         },
         "mode": "lines",
         "type": "scattermapbox"
        },
        {
         "lat": [
          54.6,
          54.8
         ],
         "lon": [
          32,
          33.3
         ],
         "marker": {
          "color": "rgb(37, 37, 37)"
         },
         "mode": "lines",
         "type": "scattermapbox"
        },
        {
         "lat": [
          54.4,
          54.6
         ],
         "lon": [
          30.4,
          32
         ],
         "marker": {
          "color": "rgb(37, 37, 37)"
         },
         "mode": "lines",
         "type": "scattermapbox"
        },
        {
         "lat": [
          54.3,
          54.4
         ],
         "lon": [
          29.2,
          30.4
         ],
         "marker": {
          "color": "rgb(37, 37, 37)"
         },
         "mode": "lines",
         "type": "scattermapbox"
        },
        {
         "lat": [
          54.2,
          54.3
         ],
         "lon": [
          28.5,
          29.2
         ],
         "marker": {
          "color": "rgb(37, 37, 37)"
         },
         "mode": "lines",
         "type": "scattermapbox"
        },
        {
         "lat": [
          54.3,
          54.2
         ],
         "lon": [
          28.3,
          28.5
         ],
         "marker": {
          "color": "rgb(37, 37, 37)"
         },
         "mode": "lines",
         "type": "scattermapbox"
        },
        {
         "lat": [
          54.5,
          54.3
         ],
         "lon": [
          27.5,
          28.3
         ],
         "marker": {
          "color": "rgb(37, 37, 37)"
         },
         "mode": "lines",
         "type": "scattermapbox"
        },
        {
         "lat": [
          54.3,
          54.5
         ],
         "lon": [
          26.8,
          27.5
         ],
         "marker": {
          "color": "rgb(37, 37, 37)"
         },
         "mode": "lines",
         "type": "scattermapbox"
        },
        {
         "lat": [
          54.4,
          54.3
         ],
         "lon": [
          26.4,
          26.8
         ],
         "marker": {
          "color": "rgb(37, 37, 37)"
         },
         "mode": "lines",
         "type": "scattermapbox"
        },
        {
         "lat": [
          54.4,
          54.4
         ],
         "lon": [
          25,
          26.4
         ],
         "marker": {
          "color": "rgb(37, 37, 37)"
         },
         "mode": "lines",
         "type": "scattermapbox"
        },
        {
         "lat": [
          54.4,
          54.4
         ],
         "lon": [
          24.4,
          25
         ],
         "marker": {
          "color": "rgb(37, 37, 37)"
         },
         "mode": "lines",
         "type": "scattermapbox"
        },
        {
         "lat": [
          54.4,
          54.4
         ],
         "lon": [
          24.2,
          24.4
         ],
         "marker": {
          "color": "rgb(37, 37, 37)"
         },
         "mode": "lines",
         "type": "scattermapbox"
        },
        {
         "lat": [
          54.4,
          54.4
         ],
         "lon": [
          24.1,
          24.2
         ],
         "marker": {
          "color": "rgb(37, 37, 37)"
         },
         "mode": "lines",
         "type": "scattermapbox"
        },
        {
         "lat": [
          55.1,
          54.4
         ],
         "lon": [
          24,
          24.1
         ],
         "marker": {
          "color": "rgb(215, 193, 126)"
         },
         "mode": "lines",
         "type": "scattermapbox"
        },
        {
         "lat": [
          55.2,
          55.1
         ],
         "lon": [
          24.5,
          24
         ],
         "marker": {
          "color": "rgb(215, 193, 126)"
         },
         "mode": "lines",
         "type": "scattermapbox"
        },
        {
         "lat": [
          54.7,
          55.2
         ],
         "lon": [
          25.5,
          24.5
         ],
         "marker": {
          "color": "rgb(215, 193, 126)"
         },
         "mode": "lines",
         "type": "scattermapbox"
        },
        {
         "lat": [
          55.7,
          54.7
         ],
         "lon": [
          26.6,
          25.5
         ],
         "marker": {
          "color": "rgb(215, 193, 126)"
         },
         "mode": "lines",
         "type": "scattermapbox"
        },
        {
         "lat": [
          55.6,
          55.7
         ],
         "lon": [
          27.4,
          26.6
         ],
         "marker": {
          "color": "rgb(215, 193, 126)"
         },
         "mode": "lines",
         "type": "scattermapbox"
        },
        {
         "lat": [
          55.5,
          55.6
         ],
         "lon": [
          28.7,
          27.4
         ],
         "marker": {
          "color": "rgb(215, 193, 126)"
         },
         "mode": "lines",
         "type": "scattermapbox"
        },
        {
         "lat": [
          55.5,
          55.5
         ],
         "lon": [
          28.7,
          28.7
         ],
         "marker": {
          "color": "rgb(37, 37, 37)"
         },
         "mode": "lines",
         "type": "scattermapbox"
        },
        {
         "lat": [
          54.2,
          55.5
         ],
         "lon": [
          29.2,
          28.7
         ],
         "marker": {
          "color": "rgb(37, 37, 37)"
         },
         "mode": "lines",
         "type": "scattermapbox"
        },
        {
         "lat": [
          54.1,
          54.2
         ],
         "lon": [
          28.5,
          29.2
         ],
         "marker": {
          "color": "rgb(37, 37, 37)"
         },
         "mode": "lines",
         "type": "scattermapbox"
        },
        {
         "lat": [
          54.2,
          54.1
         ],
         "lon": [
          28.3,
          28.5
         ],
         "marker": {
          "color": "rgb(37, 37, 37)"
         },
         "mode": "lines",
         "type": "scattermapbox"
        },
        {
         "lat": [
          55.2,
          54.2
         ],
         "lon": [
          24,
          28.3
         ],
         "marker": {
          "color": "rgb(215, 193, 126)"
         },
         "mode": "lines",
         "type": "scattermapbox"
        },
        {
         "lat": [
          55.3,
          55.2
         ],
         "lon": [
          24.5,
          24
         ],
         "marker": {
          "color": "rgb(215, 193, 126)"
         },
         "mode": "lines",
         "type": "scattermapbox"
        },
        {
         "lat": [
          55.8,
          55.3
         ],
         "lon": [
          24.6,
          24.5
         ],
         "marker": {
          "color": "rgb(215, 193, 126)"
         },
         "mode": "lines",
         "type": "scattermapbox"
        },
        {
         "lat": [
          55.8,
          55.8
         ],
         "lon": [
          24.6,
          24.6
         ],
         "marker": {
          "color": "rgb(37, 37, 37)"
         },
         "mode": "lines",
         "type": "scattermapbox"
        },
        {
         "lat": [
          54.4,
          55.8
         ],
         "lon": [
          24.2,
          24.6
         ],
         "marker": {
          "color": "rgb(37, 37, 37)"
         },
         "mode": "lines",
         "type": "scattermapbox"
        },
        {
         "lat": [
          54.4,
          54.4
         ],
         "lon": [
          24.1,
          24.2
         ],
         "marker": {
          "color": "rgb(37, 37, 37)"
         },
         "mode": "lines",
         "type": "scattermapbox"
        }
       ],
       "layout": {
        "coloraxis": {
         "colorbar": {
          "title": {
           "text": "survivors"
          }
         },
         "colorscale": [
          [
           0,
           "rgb(37, 37, 37)"
          ],
          [
           1,
           "rgb(215, 193, 126)"
          ]
         ],
         "showscale": false
        },
        "legend": {
         "itemsizing": "constant",
         "tracegroupgap": 0
        },
        "mapbox": {
         "center": {
          "lat": 55,
          "lon": 31
         },
         "domain": {
          "x": [
           0,
           1
          ],
          "y": [
           0,
           1
          ]
         },
         "style": "carto-positron",
         "zoom": 5
        },
        "margin": {
         "b": 0,
         "l": 0,
         "r": 0,
         "t": 0
        },
        "showlegend": false,
        "template": {
         "data": {
          "bar": [
           {
            "error_x": {
             "color": "#2a3f5f"
            },
            "error_y": {
             "color": "#2a3f5f"
            },
            "marker": {
             "line": {
              "color": "#E5ECF6",
              "width": 0.5
             }
            },
            "type": "bar"
           }
          ],
          "barpolar": [
           {
            "marker": {
             "line": {
              "color": "#E5ECF6",
              "width": 0.5
             }
            },
            "type": "barpolar"
           }
          ],
          "carpet": [
           {
            "aaxis": {
             "endlinecolor": "#2a3f5f",
             "gridcolor": "white",
             "linecolor": "white",
             "minorgridcolor": "white",
             "startlinecolor": "#2a3f5f"
            },
            "baxis": {
             "endlinecolor": "#2a3f5f",
             "gridcolor": "white",
             "linecolor": "white",
             "minorgridcolor": "white",
             "startlinecolor": "#2a3f5f"
            },
            "type": "carpet"
           }
          ],
          "choropleth": [
           {
            "colorbar": {
             "outlinewidth": 0,
             "ticks": ""
            },
            "type": "choropleth"
           }
          ],
          "contour": [
           {
            "colorbar": {
             "outlinewidth": 0,
             "ticks": ""
            },
            "colorscale": [
             [
              0,
              "#0d0887"
             ],
             [
              0.1111111111111111,
              "#46039f"
             ],
             [
              0.2222222222222222,
              "#7201a8"
             ],
             [
              0.3333333333333333,
              "#9c179e"
             ],
             [
              0.4444444444444444,
              "#bd3786"
             ],
             [
              0.5555555555555556,
              "#d8576b"
             ],
             [
              0.6666666666666666,
              "#ed7953"
             ],
             [
              0.7777777777777778,
              "#fb9f3a"
             ],
             [
              0.8888888888888888,
              "#fdca26"
             ],
             [
              1,
              "#f0f921"
             ]
            ],
            "type": "contour"
           }
          ],
          "contourcarpet": [
           {
            "colorbar": {
             "outlinewidth": 0,
             "ticks": ""
            },
            "type": "contourcarpet"
           }
          ],
          "heatmap": [
           {
            "colorbar": {
             "outlinewidth": 0,
             "ticks": ""
            },
            "colorscale": [
             [
              0,
              "#0d0887"
             ],
             [
              0.1111111111111111,
              "#46039f"
             ],
             [
              0.2222222222222222,
              "#7201a8"
             ],
             [
              0.3333333333333333,
              "#9c179e"
             ],
             [
              0.4444444444444444,
              "#bd3786"
             ],
             [
              0.5555555555555556,
              "#d8576b"
             ],
             [
              0.6666666666666666,
              "#ed7953"
             ],
             [
              0.7777777777777778,
              "#fb9f3a"
             ],
             [
              0.8888888888888888,
              "#fdca26"
             ],
             [
              1,
              "#f0f921"
             ]
            ],
            "type": "heatmap"
           }
          ],
          "heatmapgl": [
           {
            "colorbar": {
             "outlinewidth": 0,
             "ticks": ""
            },
            "colorscale": [
             [
              0,
              "#0d0887"
             ],
             [
              0.1111111111111111,
              "#46039f"
             ],
             [
              0.2222222222222222,
              "#7201a8"
             ],
             [
              0.3333333333333333,
              "#9c179e"
             ],
             [
              0.4444444444444444,
              "#bd3786"
             ],
             [
              0.5555555555555556,
              "#d8576b"
             ],
             [
              0.6666666666666666,
              "#ed7953"
             ],
             [
              0.7777777777777778,
              "#fb9f3a"
             ],
             [
              0.8888888888888888,
              "#fdca26"
             ],
             [
              1,
              "#f0f921"
             ]
            ],
            "type": "heatmapgl"
           }
          ],
          "histogram": [
           {
            "marker": {
             "colorbar": {
              "outlinewidth": 0,
              "ticks": ""
             }
            },
            "type": "histogram"
           }
          ],
          "histogram2d": [
           {
            "colorbar": {
             "outlinewidth": 0,
             "ticks": ""
            },
            "colorscale": [
             [
              0,
              "#0d0887"
             ],
             [
              0.1111111111111111,
              "#46039f"
             ],
             [
              0.2222222222222222,
              "#7201a8"
             ],
             [
              0.3333333333333333,
              "#9c179e"
             ],
             [
              0.4444444444444444,
              "#bd3786"
             ],
             [
              0.5555555555555556,
              "#d8576b"
             ],
             [
              0.6666666666666666,
              "#ed7953"
             ],
             [
              0.7777777777777778,
              "#fb9f3a"
             ],
             [
              0.8888888888888888,
              "#fdca26"
             ],
             [
              1,
              "#f0f921"
             ]
            ],
            "type": "histogram2d"
           }
          ],
          "histogram2dcontour": [
           {
            "colorbar": {
             "outlinewidth": 0,
             "ticks": ""
            },
            "colorscale": [
             [
              0,
              "#0d0887"
             ],
             [
              0.1111111111111111,
              "#46039f"
             ],
             [
              0.2222222222222222,
              "#7201a8"
             ],
             [
              0.3333333333333333,
              "#9c179e"
             ],
             [
              0.4444444444444444,
              "#bd3786"
             ],
             [
              0.5555555555555556,
              "#d8576b"
             ],
             [
              0.6666666666666666,
              "#ed7953"
             ],
             [
              0.7777777777777778,
              "#fb9f3a"
             ],
             [
              0.8888888888888888,
              "#fdca26"
             ],
             [
              1,
              "#f0f921"
             ]
            ],
            "type": "histogram2dcontour"
           }
          ],
          "mesh3d": [
           {
            "colorbar": {
             "outlinewidth": 0,
             "ticks": ""
            },
            "type": "mesh3d"
           }
          ],
          "parcoords": [
           {
            "line": {
             "colorbar": {
              "outlinewidth": 0,
              "ticks": ""
             }
            },
            "type": "parcoords"
           }
          ],
          "pie": [
           {
            "automargin": true,
            "type": "pie"
           }
          ],
          "scatter": [
           {
            "marker": {
             "colorbar": {
              "outlinewidth": 0,
              "ticks": ""
             }
            },
            "type": "scatter"
           }
          ],
          "scatter3d": [
           {
            "line": {
             "colorbar": {
              "outlinewidth": 0,
              "ticks": ""
             }
            },
            "marker": {
             "colorbar": {
              "outlinewidth": 0,
              "ticks": ""
             }
            },
            "type": "scatter3d"
           }
          ],
          "scattercarpet": [
           {
            "marker": {
             "colorbar": {
              "outlinewidth": 0,
              "ticks": ""
             }
            },
            "type": "scattercarpet"
           }
          ],
          "scattergeo": [
           {
            "marker": {
             "colorbar": {
              "outlinewidth": 0,
              "ticks": ""
             }
            },
            "type": "scattergeo"
           }
          ],
          "scattergl": [
           {
            "marker": {
             "colorbar": {
              "outlinewidth": 0,
              "ticks": ""
             }
            },
            "type": "scattergl"
           }
          ],
          "scattermapbox": [
           {
            "marker": {
             "colorbar": {
              "outlinewidth": 0,
              "ticks": ""
             }
            },
            "type": "scattermapbox"
           }
          ],
          "scatterpolar": [
           {
            "marker": {
             "colorbar": {
              "outlinewidth": 0,
              "ticks": ""
             }
            },
            "type": "scatterpolar"
           }
          ],
          "scatterpolargl": [
           {
            "marker": {
             "colorbar": {
              "outlinewidth": 0,
              "ticks": ""
             }
            },
            "type": "scatterpolargl"
           }
          ],
          "scatterternary": [
           {
            "marker": {
             "colorbar": {
              "outlinewidth": 0,
              "ticks": ""
             }
            },
            "type": "scatterternary"
           }
          ],
          "surface": [
           {
            "colorbar": {
             "outlinewidth": 0,
             "ticks": ""
            },
            "colorscale": [
             [
              0,
              "#0d0887"
             ],
             [
              0.1111111111111111,
              "#46039f"
             ],
             [
              0.2222222222222222,
              "#7201a8"
             ],
             [
              0.3333333333333333,
              "#9c179e"
             ],
             [
              0.4444444444444444,
              "#bd3786"
             ],
             [
              0.5555555555555556,
              "#d8576b"
             ],
             [
              0.6666666666666666,
              "#ed7953"
             ],
             [
              0.7777777777777778,
              "#fb9f3a"
             ],
             [
              0.8888888888888888,
              "#fdca26"
             ],
             [
              1,
              "#f0f921"
             ]
            ],
            "type": "surface"
           }
          ],
          "table": [
           {
            "cells": {
             "fill": {
              "color": "#EBF0F8"
             },
             "line": {
              "color": "white"
             }
            },
            "header": {
             "fill": {
              "color": "#C8D4E3"
             },
             "line": {
              "color": "white"
             }
            },
            "type": "table"
           }
          ]
         },
         "layout": {
          "annotationdefaults": {
           "arrowcolor": "#2a3f5f",
           "arrowhead": 0,
           "arrowwidth": 1
          },
          "autotypenumbers": "strict",
          "coloraxis": {
           "colorbar": {
            "outlinewidth": 0,
            "ticks": ""
           }
          },
          "colorscale": {
           "diverging": [
            [
             0,
             "#8e0152"
            ],
            [
             0.1,
             "#c51b7d"
            ],
            [
             0.2,
             "#de77ae"
            ],
            [
             0.3,
             "#f1b6da"
            ],
            [
             0.4,
             "#fde0ef"
            ],
            [
             0.5,
             "#f7f7f7"
            ],
            [
             0.6,
             "#e6f5d0"
            ],
            [
             0.7,
             "#b8e186"
            ],
            [
             0.8,
             "#7fbc41"
            ],
            [
             0.9,
             "#4d9221"
            ],
            [
             1,
             "#276419"
            ]
           ],
           "sequential": [
            [
             0,
             "#0d0887"
            ],
            [
             0.1111111111111111,
             "#46039f"
            ],
            [
             0.2222222222222222,
             "#7201a8"
            ],
            [
             0.3333333333333333,
             "#9c179e"
            ],
            [
             0.4444444444444444,
             "#bd3786"
            ],
            [
             0.5555555555555556,
             "#d8576b"
            ],
            [
             0.6666666666666666,
             "#ed7953"
            ],
            [
             0.7777777777777778,
             "#fb9f3a"
            ],
            [
             0.8888888888888888,
             "#fdca26"
            ],
            [
             1,
             "#f0f921"
            ]
           ],
           "sequentialminus": [
            [
             0,
             "#0d0887"
            ],
            [
             0.1111111111111111,
             "#46039f"
            ],
            [
             0.2222222222222222,
             "#7201a8"
            ],
            [
             0.3333333333333333,
             "#9c179e"
            ],
            [
             0.4444444444444444,
             "#bd3786"
            ],
            [
             0.5555555555555556,
             "#d8576b"
            ],
            [
             0.6666666666666666,
             "#ed7953"
            ],
            [
             0.7777777777777778,
             "#fb9f3a"
            ],
            [
             0.8888888888888888,
             "#fdca26"
            ],
            [
             1,
             "#f0f921"
            ]
           ]
          },
          "colorway": [
           "#636efa",
           "#EF553B",
           "#00cc96",
           "#ab63fa",
           "#FFA15A",
           "#19d3f3",
           "#FF6692",
           "#B6E880",
           "#FF97FF",
           "#FECB52"
          ],
          "font": {
           "color": "#2a3f5f"
          },
          "geo": {
           "bgcolor": "white",
           "lakecolor": "white",
           "landcolor": "#E5ECF6",
           "showlakes": true,
           "showland": true,
           "subunitcolor": "white"
          },
          "hoverlabel": {
           "align": "left"
          },
          "hovermode": "closest",
          "mapbox": {
           "style": "light"
          },
          "paper_bgcolor": "white",
          "plot_bgcolor": "#E5ECF6",
          "polar": {
           "angularaxis": {
            "gridcolor": "white",
            "linecolor": "white",
            "ticks": ""
           },
           "bgcolor": "#E5ECF6",
           "radialaxis": {
            "gridcolor": "white",
            "linecolor": "white",
            "ticks": ""
           }
          },
          "scene": {
           "xaxis": {
            "backgroundcolor": "#E5ECF6",
            "gridcolor": "white",
            "gridwidth": 2,
            "linecolor": "white",
            "showbackground": true,
            "ticks": "",
            "zerolinecolor": "white"
           },
           "yaxis": {
            "backgroundcolor": "#E5ECF6",
            "gridcolor": "white",
            "gridwidth": 2,
            "linecolor": "white",
            "showbackground": true,
            "ticks": "",
            "zerolinecolor": "white"
           },
           "zaxis": {
            "backgroundcolor": "#E5ECF6",
            "gridcolor": "white",
            "gridwidth": 2,
            "linecolor": "white",
            "showbackground": true,
            "ticks": "",
            "zerolinecolor": "white"
           }
          },
          "shapedefaults": {
           "line": {
            "color": "#2a3f5f"
           }
          },
          "ternary": {
           "aaxis": {
            "gridcolor": "white",
            "linecolor": "white",
            "ticks": ""
           },
           "baxis": {
            "gridcolor": "white",
            "linecolor": "white",
            "ticks": ""
           },
           "bgcolor": "#E5ECF6",
           "caxis": {
            "gridcolor": "white",
            "linecolor": "white",
            "ticks": ""
           }
          },
          "title": {
           "x": 0.05
          },
          "xaxis": {
           "automargin": true,
           "gridcolor": "white",
           "linecolor": "white",
           "ticks": "",
           "title": {
            "standoff": 15
           },
           "zerolinecolor": "white",
           "zerolinewidth": 2
          },
          "yaxis": {
           "automargin": true,
           "gridcolor": "white",
           "linecolor": "white",
           "ticks": "",
           "title": {
            "standoff": 15
           },
           "zerolinecolor": "white",
           "zerolinewidth": 2
          }
         }
        }
       }
      },
      "text/html": "<div>                            <div id=\"f6f03acd-349e-4bd9-8b77-2f589126c05e\" class=\"plotly-graph-div\" style=\"height:525px; width:100%;\"></div>            <script type=\"text/javascript\">                require([\"plotly\"], function(Plotly) {                    window.PLOTLYENV=window.PLOTLYENV || {};                                    if (document.getElementById(\"f6f03acd-349e-4bd9-8b77-2f589126c05e\")) {                    Plotly.newPlot(                        \"f6f03acd-349e-4bd9-8b77-2f589126c05e\",                        [{\"hovertemplate\": \"survivors=%{marker.color}<br>lat1=%{lat}<br>lon1=%{lon}<extra></extra>\", \"lat\": [55.0, 54.5, 54.7, 54.8, 54.9, 55.0, 55.1, 55.2, 55.3, 54.8, 54.9, 55.5, 55.4, 55.5, 55.8, 55.7, 55.7, 55.0, 55.0, 55.3, 55.2, 54.8, 54.6, 54.4, 54.3, 54.2, 54.3, 54.5, 54.3, 54.4, 54.4, 54.4, 54.4, 54.4, 55.1, 55.2, 54.7, 55.7, 55.6, 55.5, 55.5, 54.2, 54.1, 54.2, 55.2, 55.3, 55.8, 55.8, 54.4, 54.4], \"legendgroup\": \"\", \"lon\": [24.5, 25.5, 26.0, 27.0, 28.0, 28.5, 29.0, 30.0, 30.3, 32.0, 33.2, 34.4, 35.5, 36.0, 37.6, 37.7, 37.5, 37.0, 36.8, 35.4, 34.3, 33.3, 32.0, 30.4, 29.2, 28.5, 28.3, 27.5, 26.8, 26.4, 25.0, 24.4, 24.2, 24.1, 24.0, 24.5, 25.5, 26.6, 27.4, 28.7, 28.7, 29.2, 28.5, 28.3, 24.0, 24.5, 24.6, 24.6, 24.2, 24.1], \"marker\": {\"color\": [340000, 340000, 320000, 300000, 280000, 240000, 210000, 180000, 175000, 145000, 140000, 127100, 100000, 100000, 100000, 100000, 98000, 97000, 96000, 87000, 55000, 37000, 24000, 20000, 20000, 20000, 20000, 20000, 12000, 14000, 8000, 4000, 4000, 4000, 60000, 60000, 60000, 40000, 33000, 33000, 33000, 30000, 30000, 28000, 22000, 22000, 6000, 6000, 6000, 6000], \"coloraxis\": \"coloraxis\", \"size\": [340000, 340000, 320000, 300000, 280000, 240000, 210000, 180000, 175000, 145000, 140000, 127100, 100000, 100000, 100000, 100000, 98000, 97000, 96000, 87000, 55000, 37000, 24000, 20000, 20000, 20000, 20000, 20000, 12000, 14000, 8000, 4000, 4000, 4000, 60000, 60000, 60000, 40000, 33000, 33000, 33000, 30000, 30000, 28000, 22000, 22000, 6000, 6000, 6000, 6000], \"sizemode\": \"area\", \"sizeref\": 136.0}, \"mode\": \"markers\", \"name\": \"\", \"showlegend\": false, \"subplot\": \"mapbox\", \"type\": \"scattermapbox\"}, {\"lat\": [55.0, 54.9], \"lon\": [24.5, 24.0], \"marker\": {\"color\": \"rgb(215, 193, 126)\"}, \"mode\": \"lines\", \"type\": \"scattermapbox\"}, {\"lat\": [54.5, 55.0], \"lon\": [25.5, 24.5], \"marker\": {\"color\": \"rgb(215, 193, 126)\"}, \"mode\": \"lines\", \"type\": \"scattermapbox\"}, {\"lat\": [54.7, 54.5], \"lon\": [26.0, 25.5], \"marker\": {\"color\": \"rgb(215, 193, 126)\"}, \"mode\": \"lines\", \"type\": \"scattermapbox\"}, {\"lat\": [54.8, 54.7], \"lon\": [27.0, 26.0], \"marker\": {\"color\": \"rgb(215, 193, 126)\"}, \"mode\": \"lines\", \"type\": \"scattermapbox\"}, {\"lat\": [54.9, 54.8], \"lon\": [28.0, 27.0], \"marker\": {\"color\": \"rgb(215, 193, 126)\"}, \"mode\": \"lines\", \"type\": \"scattermapbox\"}, {\"lat\": [55.0, 54.9], \"lon\": [28.5, 28.0], \"marker\": {\"color\": \"rgb(215, 193, 126)\"}, \"mode\": \"lines\", \"type\": \"scattermapbox\"}, {\"lat\": [55.1, 55.0], \"lon\": [29.0, 28.5], \"marker\": {\"color\": \"rgb(215, 193, 126)\"}, \"mode\": \"lines\", \"type\": \"scattermapbox\"}, {\"lat\": [55.2, 55.1], \"lon\": [30.0, 29.0], \"marker\": {\"color\": \"rgb(215, 193, 126)\"}, \"mode\": \"lines\", \"type\": \"scattermapbox\"}, {\"lat\": [55.3, 55.2], \"lon\": [30.3, 30.0], \"marker\": {\"color\": \"rgb(215, 193, 126)\"}, \"mode\": \"lines\", \"type\": \"scattermapbox\"}, {\"lat\": [54.8, 55.3], \"lon\": [32.0, 30.3], \"marker\": {\"color\": \"rgb(215, 193, 126)\"}, \"mode\": \"lines\", \"type\": \"scattermapbox\"}, {\"lat\": [54.9, 54.8], \"lon\": [33.2, 32.0], \"marker\": {\"color\": \"rgb(215, 193, 126)\"}, \"mode\": \"lines\", \"type\": \"scattermapbox\"}, {\"lat\": [55.5, 54.9], \"lon\": [34.4, 33.2], \"marker\": {\"color\": \"rgb(215, 193, 126)\"}, \"mode\": \"lines\", \"type\": \"scattermapbox\"}, {\"lat\": [55.4, 55.5], \"lon\": [35.5, 34.4], \"marker\": {\"color\": \"rgb(215, 193, 126)\"}, \"mode\": \"lines\", \"type\": \"scattermapbox\"}, {\"lat\": [55.5, 55.4], \"lon\": [36.0, 35.5], \"marker\": {\"color\": \"rgb(215, 193, 126)\"}, \"mode\": \"lines\", \"type\": \"scattermapbox\"}, {\"lat\": [55.8, 55.5], \"lon\": [37.6, 36.0], \"marker\": {\"color\": \"rgb(215, 193, 126)\"}, \"mode\": \"lines\", \"type\": \"scattermapbox\"}, {\"lat\": [55.7, 55.8], \"lon\": [37.7, 37.6], \"marker\": {\"color\": \"rgb(37, 37, 37)\"}, \"mode\": \"lines\", \"type\": \"scattermapbox\"}, {\"lat\": [55.7, 55.7], \"lon\": [37.5, 37.7], \"marker\": {\"color\": \"rgb(37, 37, 37)\"}, \"mode\": \"lines\", \"type\": \"scattermapbox\"}, {\"lat\": [55.0, 55.7], \"lon\": [37.0, 37.5], \"marker\": {\"color\": \"rgb(37, 37, 37)\"}, \"mode\": \"lines\", \"type\": \"scattermapbox\"}, {\"lat\": [55.0, 55.0], \"lon\": [36.8, 37.0], \"marker\": {\"color\": \"rgb(37, 37, 37)\"}, \"mode\": \"lines\", \"type\": \"scattermapbox\"}, {\"lat\": [55.3, 55.0], \"lon\": [35.4, 36.8], \"marker\": {\"color\": \"rgb(37, 37, 37)\"}, \"mode\": \"lines\", \"type\": \"scattermapbox\"}, {\"lat\": [55.2, 55.3], \"lon\": [34.3, 35.4], \"marker\": {\"color\": \"rgb(37, 37, 37)\"}, \"mode\": \"lines\", \"type\": \"scattermapbox\"}, {\"lat\": [54.8, 55.2], \"lon\": [33.3, 34.3], \"marker\": {\"color\": \"rgb(37, 37, 37)\"}, \"mode\": \"lines\", \"type\": \"scattermapbox\"}, {\"lat\": [54.6, 54.8], \"lon\": [32.0, 33.3], \"marker\": {\"color\": \"rgb(37, 37, 37)\"}, \"mode\": \"lines\", \"type\": \"scattermapbox\"}, {\"lat\": [54.4, 54.6], \"lon\": [30.4, 32.0], \"marker\": {\"color\": \"rgb(37, 37, 37)\"}, \"mode\": \"lines\", \"type\": \"scattermapbox\"}, {\"lat\": [54.3, 54.4], \"lon\": [29.2, 30.4], \"marker\": {\"color\": \"rgb(37, 37, 37)\"}, \"mode\": \"lines\", \"type\": \"scattermapbox\"}, {\"lat\": [54.2, 54.3], \"lon\": [28.5, 29.2], \"marker\": {\"color\": \"rgb(37, 37, 37)\"}, \"mode\": \"lines\", \"type\": \"scattermapbox\"}, {\"lat\": [54.3, 54.2], \"lon\": [28.3, 28.5], \"marker\": {\"color\": \"rgb(37, 37, 37)\"}, \"mode\": \"lines\", \"type\": \"scattermapbox\"}, {\"lat\": [54.5, 54.3], \"lon\": [27.5, 28.3], \"marker\": {\"color\": \"rgb(37, 37, 37)\"}, \"mode\": \"lines\", \"type\": \"scattermapbox\"}, {\"lat\": [54.3, 54.5], \"lon\": [26.8, 27.5], \"marker\": {\"color\": \"rgb(37, 37, 37)\"}, \"mode\": \"lines\", \"type\": \"scattermapbox\"}, {\"lat\": [54.4, 54.3], \"lon\": [26.4, 26.8], \"marker\": {\"color\": \"rgb(37, 37, 37)\"}, \"mode\": \"lines\", \"type\": \"scattermapbox\"}, {\"lat\": [54.4, 54.4], \"lon\": [25.0, 26.4], \"marker\": {\"color\": \"rgb(37, 37, 37)\"}, \"mode\": \"lines\", \"type\": \"scattermapbox\"}, {\"lat\": [54.4, 54.4], \"lon\": [24.4, 25.0], \"marker\": {\"color\": \"rgb(37, 37, 37)\"}, \"mode\": \"lines\", \"type\": \"scattermapbox\"}, {\"lat\": [54.4, 54.4], \"lon\": [24.2, 24.4], \"marker\": {\"color\": \"rgb(37, 37, 37)\"}, \"mode\": \"lines\", \"type\": \"scattermapbox\"}, {\"lat\": [54.4, 54.4], \"lon\": [24.1, 24.2], \"marker\": {\"color\": \"rgb(37, 37, 37)\"}, \"mode\": \"lines\", \"type\": \"scattermapbox\"}, {\"lat\": [55.1, 54.4], \"lon\": [24.0, 24.1], \"marker\": {\"color\": \"rgb(215, 193, 126)\"}, \"mode\": \"lines\", \"type\": \"scattermapbox\"}, {\"lat\": [55.2, 55.1], \"lon\": [24.5, 24.0], \"marker\": {\"color\": \"rgb(215, 193, 126)\"}, \"mode\": \"lines\", \"type\": \"scattermapbox\"}, {\"lat\": [54.7, 55.2], \"lon\": [25.5, 24.5], \"marker\": {\"color\": \"rgb(215, 193, 126)\"}, \"mode\": \"lines\", \"type\": \"scattermapbox\"}, {\"lat\": [55.7, 54.7], \"lon\": [26.6, 25.5], \"marker\": {\"color\": \"rgb(215, 193, 126)\"}, \"mode\": \"lines\", \"type\": \"scattermapbox\"}, {\"lat\": [55.6, 55.7], \"lon\": [27.4, 26.6], \"marker\": {\"color\": \"rgb(215, 193, 126)\"}, \"mode\": \"lines\", \"type\": \"scattermapbox\"}, {\"lat\": [55.5, 55.6], \"lon\": [28.7, 27.4], \"marker\": {\"color\": \"rgb(215, 193, 126)\"}, \"mode\": \"lines\", \"type\": \"scattermapbox\"}, {\"lat\": [55.5, 55.5], \"lon\": [28.7, 28.7], \"marker\": {\"color\": \"rgb(37, 37, 37)\"}, \"mode\": \"lines\", \"type\": \"scattermapbox\"}, {\"lat\": [54.2, 55.5], \"lon\": [29.2, 28.7], \"marker\": {\"color\": \"rgb(37, 37, 37)\"}, \"mode\": \"lines\", \"type\": \"scattermapbox\"}, {\"lat\": [54.1, 54.2], \"lon\": [28.5, 29.2], \"marker\": {\"color\": \"rgb(37, 37, 37)\"}, \"mode\": \"lines\", \"type\": \"scattermapbox\"}, {\"lat\": [54.2, 54.1], \"lon\": [28.3, 28.5], \"marker\": {\"color\": \"rgb(37, 37, 37)\"}, \"mode\": \"lines\", \"type\": \"scattermapbox\"}, {\"lat\": [55.2, 54.2], \"lon\": [24.0, 28.3], \"marker\": {\"color\": \"rgb(215, 193, 126)\"}, \"mode\": \"lines\", \"type\": \"scattermapbox\"}, {\"lat\": [55.3, 55.2], \"lon\": [24.5, 24.0], \"marker\": {\"color\": \"rgb(215, 193, 126)\"}, \"mode\": \"lines\", \"type\": \"scattermapbox\"}, {\"lat\": [55.8, 55.3], \"lon\": [24.6, 24.5], \"marker\": {\"color\": \"rgb(215, 193, 126)\"}, \"mode\": \"lines\", \"type\": \"scattermapbox\"}, {\"lat\": [55.8, 55.8], \"lon\": [24.6, 24.6], \"marker\": {\"color\": \"rgb(37, 37, 37)\"}, \"mode\": \"lines\", \"type\": \"scattermapbox\"}, {\"lat\": [54.4, 55.8], \"lon\": [24.2, 24.6], \"marker\": {\"color\": \"rgb(37, 37, 37)\"}, \"mode\": \"lines\", \"type\": \"scattermapbox\"}, {\"lat\": [54.4, 54.4], \"lon\": [24.1, 24.2], \"marker\": {\"color\": \"rgb(37, 37, 37)\"}, \"mode\": \"lines\", \"type\": \"scattermapbox\"}],                        {\"coloraxis\": {\"colorbar\": {\"title\": {\"text\": \"survivors\"}}, \"colorscale\": [[0, \"rgb(37, 37, 37)\"], [1, \"rgb(215, 193, 126)\"]], \"showscale\": false}, \"legend\": {\"itemsizing\": \"constant\", \"tracegroupgap\": 0}, \"mapbox\": {\"center\": {\"lat\": 55, \"lon\": 31}, \"domain\": {\"x\": [0.0, 1.0], \"y\": [0.0, 1.0]}, \"style\": \"carto-positron\", \"zoom\": 5}, \"margin\": {\"b\": 0, \"l\": 0, \"r\": 0, \"t\": 0}, \"showlegend\": false, \"template\": {\"data\": {\"bar\": [{\"error_x\": {\"color\": \"#2a3f5f\"}, \"error_y\": {\"color\": \"#2a3f5f\"}, \"marker\": {\"line\": {\"color\": \"#E5ECF6\", \"width\": 0.5}}, \"type\": \"bar\"}], \"barpolar\": [{\"marker\": {\"line\": {\"color\": \"#E5ECF6\", \"width\": 0.5}}, \"type\": \"barpolar\"}], \"carpet\": [{\"aaxis\": {\"endlinecolor\": \"#2a3f5f\", \"gridcolor\": \"white\", \"linecolor\": \"white\", \"minorgridcolor\": \"white\", \"startlinecolor\": \"#2a3f5f\"}, \"baxis\": {\"endlinecolor\": \"#2a3f5f\", \"gridcolor\": \"white\", \"linecolor\": \"white\", \"minorgridcolor\": \"white\", \"startlinecolor\": \"#2a3f5f\"}, \"type\": \"carpet\"}], \"choropleth\": [{\"colorbar\": {\"outlinewidth\": 0, \"ticks\": \"\"}, \"type\": \"choropleth\"}], \"contour\": [{\"colorbar\": {\"outlinewidth\": 0, \"ticks\": \"\"}, \"colorscale\": [[0.0, \"#0d0887\"], [0.1111111111111111, \"#46039f\"], [0.2222222222222222, \"#7201a8\"], [0.3333333333333333, \"#9c179e\"], [0.4444444444444444, \"#bd3786\"], [0.5555555555555556, \"#d8576b\"], [0.6666666666666666, \"#ed7953\"], [0.7777777777777778, \"#fb9f3a\"], [0.8888888888888888, \"#fdca26\"], [1.0, \"#f0f921\"]], \"type\": \"contour\"}], \"contourcarpet\": [{\"colorbar\": {\"outlinewidth\": 0, \"ticks\": \"\"}, \"type\": \"contourcarpet\"}], \"heatmap\": [{\"colorbar\": {\"outlinewidth\": 0, \"ticks\": \"\"}, \"colorscale\": [[0.0, \"#0d0887\"], [0.1111111111111111, \"#46039f\"], [0.2222222222222222, \"#7201a8\"], [0.3333333333333333, \"#9c179e\"], [0.4444444444444444, \"#bd3786\"], [0.5555555555555556, \"#d8576b\"], [0.6666666666666666, \"#ed7953\"], [0.7777777777777778, \"#fb9f3a\"], [0.8888888888888888, \"#fdca26\"], [1.0, \"#f0f921\"]], \"type\": \"heatmap\"}], \"heatmapgl\": [{\"colorbar\": {\"outlinewidth\": 0, \"ticks\": \"\"}, \"colorscale\": [[0.0, \"#0d0887\"], [0.1111111111111111, \"#46039f\"], [0.2222222222222222, \"#7201a8\"], [0.3333333333333333, \"#9c179e\"], [0.4444444444444444, \"#bd3786\"], [0.5555555555555556, \"#d8576b\"], [0.6666666666666666, \"#ed7953\"], [0.7777777777777778, \"#fb9f3a\"], [0.8888888888888888, \"#fdca26\"], [1.0, \"#f0f921\"]], \"type\": \"heatmapgl\"}], \"histogram\": [{\"marker\": {\"colorbar\": {\"outlinewidth\": 0, \"ticks\": \"\"}}, \"type\": \"histogram\"}], \"histogram2d\": [{\"colorbar\": {\"outlinewidth\": 0, \"ticks\": \"\"}, \"colorscale\": [[0.0, \"#0d0887\"], [0.1111111111111111, \"#46039f\"], [0.2222222222222222, \"#7201a8\"], [0.3333333333333333, \"#9c179e\"], [0.4444444444444444, \"#bd3786\"], [0.5555555555555556, \"#d8576b\"], [0.6666666666666666, \"#ed7953\"], [0.7777777777777778, \"#fb9f3a\"], [0.8888888888888888, \"#fdca26\"], [1.0, \"#f0f921\"]], \"type\": \"histogram2d\"}], \"histogram2dcontour\": [{\"colorbar\": {\"outlinewidth\": 0, \"ticks\": \"\"}, \"colorscale\": [[0.0, \"#0d0887\"], [0.1111111111111111, \"#46039f\"], [0.2222222222222222, \"#7201a8\"], [0.3333333333333333, \"#9c179e\"], [0.4444444444444444, \"#bd3786\"], [0.5555555555555556, \"#d8576b\"], [0.6666666666666666, \"#ed7953\"], [0.7777777777777778, \"#fb9f3a\"], [0.8888888888888888, \"#fdca26\"], [1.0, \"#f0f921\"]], \"type\": \"histogram2dcontour\"}], \"mesh3d\": [{\"colorbar\": {\"outlinewidth\": 0, \"ticks\": \"\"}, \"type\": \"mesh3d\"}], \"parcoords\": [{\"line\": {\"colorbar\": {\"outlinewidth\": 0, \"ticks\": \"\"}}, \"type\": \"parcoords\"}], \"pie\": [{\"automargin\": true, \"type\": \"pie\"}], \"scatter\": [{\"marker\": {\"colorbar\": {\"outlinewidth\": 0, \"ticks\": \"\"}}, \"type\": \"scatter\"}], \"scatter3d\": [{\"line\": {\"colorbar\": {\"outlinewidth\": 0, \"ticks\": \"\"}}, \"marker\": {\"colorbar\": {\"outlinewidth\": 0, \"ticks\": \"\"}}, \"type\": \"scatter3d\"}], \"scattercarpet\": [{\"marker\": {\"colorbar\": {\"outlinewidth\": 0, \"ticks\": \"\"}}, \"type\": \"scattercarpet\"}], \"scattergeo\": [{\"marker\": {\"colorbar\": {\"outlinewidth\": 0, \"ticks\": \"\"}}, \"type\": \"scattergeo\"}], \"scattergl\": [{\"marker\": {\"colorbar\": {\"outlinewidth\": 0, \"ticks\": \"\"}}, \"type\": \"scattergl\"}], \"scattermapbox\": [{\"marker\": {\"colorbar\": {\"outlinewidth\": 0, \"ticks\": \"\"}}, \"type\": \"scattermapbox\"}], \"scatterpolar\": [{\"marker\": {\"colorbar\": {\"outlinewidth\": 0, \"ticks\": \"\"}}, \"type\": \"scatterpolar\"}], \"scatterpolargl\": [{\"marker\": {\"colorbar\": {\"outlinewidth\": 0, \"ticks\": \"\"}}, \"type\": \"scatterpolargl\"}], \"scatterternary\": [{\"marker\": {\"colorbar\": {\"outlinewidth\": 0, \"ticks\": \"\"}}, \"type\": \"scatterternary\"}], \"surface\": [{\"colorbar\": {\"outlinewidth\": 0, \"ticks\": \"\"}, \"colorscale\": [[0.0, \"#0d0887\"], [0.1111111111111111, \"#46039f\"], [0.2222222222222222, \"#7201a8\"], [0.3333333333333333, \"#9c179e\"], [0.4444444444444444, \"#bd3786\"], [0.5555555555555556, \"#d8576b\"], [0.6666666666666666, \"#ed7953\"], [0.7777777777777778, \"#fb9f3a\"], [0.8888888888888888, \"#fdca26\"], [1.0, \"#f0f921\"]], \"type\": \"surface\"}], \"table\": [{\"cells\": {\"fill\": {\"color\": \"#EBF0F8\"}, \"line\": {\"color\": \"white\"}}, \"header\": {\"fill\": {\"color\": \"#C8D4E3\"}, \"line\": {\"color\": \"white\"}}, \"type\": \"table\"}]}, \"layout\": {\"annotationdefaults\": {\"arrowcolor\": \"#2a3f5f\", \"arrowhead\": 0, \"arrowwidth\": 1}, \"autotypenumbers\": \"strict\", \"coloraxis\": {\"colorbar\": {\"outlinewidth\": 0, \"ticks\": \"\"}}, \"colorscale\": {\"diverging\": [[0, \"#8e0152\"], [0.1, \"#c51b7d\"], [0.2, \"#de77ae\"], [0.3, \"#f1b6da\"], [0.4, \"#fde0ef\"], [0.5, \"#f7f7f7\"], [0.6, \"#e6f5d0\"], [0.7, \"#b8e186\"], [0.8, \"#7fbc41\"], [0.9, \"#4d9221\"], [1, \"#276419\"]], \"sequential\": [[0.0, \"#0d0887\"], [0.1111111111111111, \"#46039f\"], [0.2222222222222222, \"#7201a8\"], [0.3333333333333333, \"#9c179e\"], [0.4444444444444444, \"#bd3786\"], [0.5555555555555556, \"#d8576b\"], [0.6666666666666666, \"#ed7953\"], [0.7777777777777778, \"#fb9f3a\"], [0.8888888888888888, \"#fdca26\"], [1.0, \"#f0f921\"]], \"sequentialminus\": [[0.0, \"#0d0887\"], [0.1111111111111111, \"#46039f\"], [0.2222222222222222, \"#7201a8\"], [0.3333333333333333, \"#9c179e\"], [0.4444444444444444, \"#bd3786\"], [0.5555555555555556, \"#d8576b\"], [0.6666666666666666, \"#ed7953\"], [0.7777777777777778, \"#fb9f3a\"], [0.8888888888888888, \"#fdca26\"], [1.0, \"#f0f921\"]]}, \"colorway\": [\"#636efa\", \"#EF553B\", \"#00cc96\", \"#ab63fa\", \"#FFA15A\", \"#19d3f3\", \"#FF6692\", \"#B6E880\", \"#FF97FF\", \"#FECB52\"], \"font\": {\"color\": \"#2a3f5f\"}, \"geo\": {\"bgcolor\": \"white\", \"lakecolor\": \"white\", \"landcolor\": \"#E5ECF6\", \"showlakes\": true, \"showland\": true, \"subunitcolor\": \"white\"}, \"hoverlabel\": {\"align\": \"left\"}, \"hovermode\": \"closest\", \"mapbox\": {\"style\": \"light\"}, \"paper_bgcolor\": \"white\", \"plot_bgcolor\": \"#E5ECF6\", \"polar\": {\"angularaxis\": {\"gridcolor\": \"white\", \"linecolor\": \"white\", \"ticks\": \"\"}, \"bgcolor\": \"#E5ECF6\", \"radialaxis\": {\"gridcolor\": \"white\", \"linecolor\": \"white\", \"ticks\": \"\"}}, \"scene\": {\"xaxis\": {\"backgroundcolor\": \"#E5ECF6\", \"gridcolor\": \"white\", \"gridwidth\": 2, \"linecolor\": \"white\", \"showbackground\": true, \"ticks\": \"\", \"zerolinecolor\": \"white\"}, \"yaxis\": {\"backgroundcolor\": \"#E5ECF6\", \"gridcolor\": \"white\", \"gridwidth\": 2, \"linecolor\": \"white\", \"showbackground\": true, \"ticks\": \"\", \"zerolinecolor\": \"white\"}, \"zaxis\": {\"backgroundcolor\": \"#E5ECF6\", \"gridcolor\": \"white\", \"gridwidth\": 2, \"linecolor\": \"white\", \"showbackground\": true, \"ticks\": \"\", \"zerolinecolor\": \"white\"}}, \"shapedefaults\": {\"line\": {\"color\": \"#2a3f5f\"}}, \"ternary\": {\"aaxis\": {\"gridcolor\": \"white\", \"linecolor\": \"white\", \"ticks\": \"\"}, \"baxis\": {\"gridcolor\": \"white\", \"linecolor\": \"white\", \"ticks\": \"\"}, \"bgcolor\": \"#E5ECF6\", \"caxis\": {\"gridcolor\": \"white\", \"linecolor\": \"white\", \"ticks\": \"\"}}, \"title\": {\"x\": 0.05}, \"xaxis\": {\"automargin\": true, \"gridcolor\": \"white\", \"linecolor\": \"white\", \"ticks\": \"\", \"title\": {\"standoff\": 15}, \"zerolinecolor\": \"white\", \"zerolinewidth\": 2}, \"yaxis\": {\"automargin\": true, \"gridcolor\": \"white\", \"linecolor\": \"white\", \"ticks\": \"\", \"title\": {\"standoff\": 15}, \"zerolinecolor\": \"white\", \"zerolinewidth\": 2}}}},                        {\"responsive\": true}                    ).then(function(){\n                            \nvar gd = document.getElementById('f6f03acd-349e-4bd9-8b77-2f589126c05e');\nvar x = new MutationObserver(function (mutations, observer) {{\n        var display = window.getComputedStyle(gd).display;\n        if (!display || display === 'none') {{\n            console.log([gd, 'removed!']);\n            Plotly.purge(gd);\n            observer.disconnect();\n        }}\n}});\n\n// Listen for the removal of the full notebook cells\nvar notebookContainer = gd.closest('#notebook-container');\nif (notebookContainer) {{\n    x.observe(notebookContainer, {childList: true});\n}}\n\n// Listen for the clearing of the current output cell\nvar outputEl = gd.closest('.output');\nif (outputEl) {{\n    x.observe(outputEl, {childList: true});\n}}\n\n                        })                };                });            </script>        </div>"
     },
     "metadata": {}
    }
   ],
   "source": [
    "# df['direction'] = df['direction'].astype(str)\n",
    "import plotly.express as px\n",
    "fig = px.scatter_mapbox(df, \n",
    "                        lat='lat1',\n",
    "                        lon='lon1', \n",
    "                        color=\"survivors\",\n",
    "                        size=\"survivors\",\n",
    "                        size_max=50,\n",
    "                        color_continuous_scale=[[0,'rgb(37, 37, 37)'],[1,'rgb(215, 193, 126)']],\n",
    "                        zoom=5,\n",
    "                        center={'lat':55,'lon':31}\n",
    "                        )\n",
    "\n",
    "color={0:'rgb(215, 193, 126)',1:'rgb(37, 37, 37)'}\n",
    "for index, row in df.iterrows():\n",
    "# fig.add_trace(fig2.data[0])\n",
    "    fig.add_trace(go.Scattermapbox(\n",
    "        mode = \"lines\",\n",
    "        lon = row.lons,\n",
    "        lat =row.lats,\n",
    "        marker = {\n",
    "        'color': color[row.direction]\n",
    "        }\n",
    "        ))\n",
    "\n",
    "fig.update_layout(mapbox_style=\"carto-positron\")\n",
    "fig.update_layout(margin={'r':0,'t':0,'l':0,'b':0})\n",
    "fig.update_layout(showlegend=False)\n",
    "fig.update(layout_coloraxis_showscale=False)\n",
    "# fig.show()"
   ]
  },
  {
   "cell_type": "code",
   "execution_count": null,
   "metadata": {},
   "outputs": [],
   "source": []
  }
 ],
 "metadata": {
  "kernelspec": {
   "name": "python3",
   "display_name": "Python 3.8.5 64-bit ('base': conda)",
   "metadata": {
    "interpreter": {
     "hash": "e05c6b20a15b70bd4d6a40b01461493cd1d177a424c233c15ba0f9c40b7fcb4b"
    }
   }
  },
  "language_info": {
   "codemirror_mode": {
    "name": "ipython",
    "version": 3
   },
   "file_extension": ".py",
   "mimetype": "text/x-python",
   "name": "python",
   "nbconvert_exporter": "python",
   "pygments_lexer": "ipython3",
   "version": "3.8.5-final"
  }
 },
 "nbformat": 4,
 "nbformat_minor": 4
}